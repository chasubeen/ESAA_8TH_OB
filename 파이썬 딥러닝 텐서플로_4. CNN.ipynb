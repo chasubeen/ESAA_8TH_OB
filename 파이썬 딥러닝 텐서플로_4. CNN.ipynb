{
  "nbformat": 4,
  "nbformat_minor": 5,
  "metadata": {
    "kernelspec": {
      "name": "python3",
      "display_name": "Python 3"
    },
    "colab": {
      "provenance": [],
      "include_colab_link": true
    }
  },
  "cells": [
    {
      "cell_type": "markdown",
      "metadata": {
        "id": "view-in-github",
        "colab_type": "text"
      },
      "source": [
        "<a href=\"https://colab.research.google.com/github/chasubeen/ESAA_8th_OB/blob/Week_12/%ED%8C%8C%EC%9D%B4%EC%8D%AC%20%EB%94%A5%EB%9F%AC%EB%8B%9D%20%ED%85%90%EC%84%9C%ED%94%8C%EB%A1%9C_4.%20CNN.ipynb\" target=\"_parent\"><img src=\"https://colab.research.google.com/assets/colab-badge.svg\" alt=\"Open In Colab\"/></a>"
      ]
    },
    {
      "cell_type": "markdown",
      "source": [
        "# **2. 간단한 모델 생성**"
      ],
      "metadata": {
        "id": "qIA4jlQRqnrA"
      },
      "id": "qIA4jlQRqnrA"
    },
    {
      "cell_type": "markdown",
      "source": [
        "## **2-1. 데이터 로드 및 전처리**"
      ],
      "metadata": {
        "id": "2MxVurgyuehb"
      },
      "id": "2MxVurgyuehb"
    },
    {
      "cell_type": "markdown",
      "metadata": {
        "id": "characteristic-adventure"
      },
      "source": [
        "### **Import**"
      ],
      "id": "characteristic-adventure"
    },
    {
      "cell_type": "code",
      "metadata": {
        "id": "opened-yield"
      },
      "source": [
        "# tensorflow 모듈 import\n",
        "\n",
        "import tensorflow as tf"
      ],
      "id": "opened-yield",
      "execution_count": 1,
      "outputs": []
    },
    {
      "cell_type": "markdown",
      "metadata": {
        "id": "clinical-cowboy"
      },
      "source": [
        "### **Dataset**\n",
        "\n",
        "\n"
      ],
      "id": "clinical-cowboy"
    },
    {
      "cell_type": "code",
      "metadata": {
        "colab": {
          "base_uri": "https://localhost:8080/"
        },
        "id": "heard-salad",
        "outputId": "1841473e-c119-498c-e01d-500d175e4ed5"
      },
      "source": [
        "# MNIST 손글씨 이미지 데이터 로드\n",
        "mnist = tf.keras.datasets.mnist\n",
        "(x_train, y_train), (x_valid, y_valid) = mnist.load_data()\n",
        "\n",
        "print(x_train.shape, y_train.shape)\n",
        "print(x_valid.shape, y_valid.shape)"
      ],
      "id": "heard-salad",
      "execution_count": 2,
      "outputs": [
        {
          "output_type": "stream",
          "name": "stdout",
          "text": [
            "(60000, 28, 28) (60000,)\n",
            "(10000, 28, 28) (10000,)\n"
          ]
        }
      ]
    },
    {
      "cell_type": "code",
      "metadata": {
        "colab": {
          "base_uri": "https://localhost:8080/",
          "height": 422
        },
        "id": "joUirjDUmlPu",
        "outputId": "ea62b8dc-a990-4c6e-d9eb-a473d0afef5b"
      },
      "source": [
        "# 샘플 이미지 출력\n",
        "\n",
        "import matplotlib.pylab as plt\n",
        "\n",
        "def plot_image(data, idx):\n",
        "    plt.figure(figsize=(5, 5))\n",
        "    plt.imshow(data[idx], cmap=\"gray\")\n",
        "    plt.axis(\"off\")\n",
        "    plt.show()\n",
        "\n",
        "plot_image(x_train, 0)"
      ],
      "id": "joUirjDUmlPu",
      "execution_count": 3,
      "outputs": [
        {
          "output_type": "display_data",
          "data": {
            "text/plain": [
              "<Figure size 500x500 with 1 Axes>"
            ],
            "image/png": "[encoded data removed]"
          },
          "metadata": {}
        }
      ]
    },
    {
      "cell_type": "code",
      "metadata": {
        "colab": {
          "base_uri": "https://localhost:8080/"
        },
        "id": "f5hACZpVmjLH",
        "outputId": "13702fa8-6057-4593-f9c5-f32233ec330d"
      },
      "source": [
        "print(x_train.min(), x_train.max())\n",
        "print(x_valid.min(), x_valid.max())"
      ],
      "id": "f5hACZpVmjLH",
      "execution_count": 4,
      "outputs": [
        {
          "output_type": "stream",
          "name": "stdout",
          "text": [
            "0 255\n",
            "0 255\n"
          ]
        }
      ]
    },
    {
      "cell_type": "markdown",
      "source": [
        "이미지 픽셀이 0 ~ 255 범위의 숫자로 구성된 것을 확인할 수 있다."
      ],
      "metadata": {
        "id": "7mf6jZ4prVti"
      },
      "id": "7mf6jZ4prVti"
    },
    {
      "cell_type": "code",
      "metadata": {
        "colab": {
          "base_uri": "https://localhost:8080/"
        },
        "id": "os1op0H7mT-A",
        "outputId": "c2e8dec2-cfef-4385-8835-26c81bb0fa38"
      },
      "source": [
        "# 정규화(Normalization)\n",
        "\n",
        "x_train = x_train / 255.0\n",
        "x_valid = x_valid / 255.0\n",
        "\n",
        "print(x_train.min(), x_train.max())\n",
        "print(x_valid.min(), x_valid.max())"
      ],
      "id": "os1op0H7mT-A",
      "execution_count": 5,
      "outputs": [
        {
          "output_type": "stream",
          "name": "stdout",
          "text": [
            "0.0 1.0\n",
            "0.0 1.0\n"
          ]
        }
      ]
    },
    {
      "cell_type": "code",
      "metadata": {
        "colab": {
          "base_uri": "https://localhost:8080/"
        },
        "id": "professional-quantity",
        "outputId": "189b7476-e1e0-4246-94e0-471405d64c9f"
      },
      "source": [
        "# 채널 추가\n",
        "\n",
        "print(x_train.shape, x_valid.shape)\n",
        "\n",
        "x_train_in = x_train[..., tf.newaxis] # 채널을 추가하고자 하는 위치에 tf.newaxis를 작성하면 됨\n",
        "x_valid_in = x_valid[..., tf.newaxis]\n",
        "\n",
        "print(x_train_in.shape, x_valid_in.shape)"
      ],
      "id": "professional-quantity",
      "execution_count": 6,
      "outputs": [
        {
          "output_type": "stream",
          "name": "stdout",
          "text": [
            "(60000, 28, 28) (10000, 28, 28)\n",
            "(60000, 28, 28, 1) (10000, 28, 28, 1)\n"
          ]
        }
      ]
    },
    {
      "cell_type": "markdown",
      "metadata": {
        "id": "portuguese-oriental"
      },
      "source": [
        "## **2-2. Sequential API로 모델 생성 및 학습**"
      ],
      "id": "portuguese-oriental"
    },
    {
      "cell_type": "code",
      "metadata": {
        "id": "unusual-clone"
      },
      "source": [
        "# Sequential API를 사용하여 샘플 모델 생성\n",
        "\n",
        "model = tf.keras.Sequential([\n",
        "    # Convolution 적용 (32 filters)\n",
        "    tf.keras.layers.Conv2D(32, (3, 3), # 커널(필터) 개수: 32\n",
        "                           activation = 'relu',\n",
        "                           input_shape = (28, 28, 1),  # channel = 1\n",
        "                           name = 'conv'),\n",
        "    # Max Pooling 적용\n",
        "    tf.keras.layers.MaxPooling2D((2, 2), name = 'pool'),\n",
        "\n",
        "    # Classifier 출력층\n",
        "    tf.keras.layers.Flatten(), # 1차원 벡터로 펼챠줌\n",
        "    tf.keras.layers.Dense(10, activation = 'softmax'), # 다중 분류 -> softmax 활용\n",
        "])"
      ],
      "id": "unusual-clone",
      "execution_count": 7,
      "outputs": []
    },
    {
      "cell_type": "code",
      "metadata": {
        "colab": {
          "base_uri": "https://localhost:8080/"
        },
        "id": "bulgarian-reader",
        "outputId": "988a66ed-d2d3-4f85-82da-6dc008da6a45"
      },
      "source": [
        "# 모델 컴파일\n",
        "model.compile(optimizer = 'adam', loss = 'sparse_categorical_crossentropy', metrics = ['accuracy'])\n",
        "\n",
        "# 모델 훈련\n",
        "history = model.fit(x_train_in, y_train,\n",
        "                    validation_data = (x_valid_in, y_valid),\n",
        "                    epochs = 10)"
      ],
      "id": "bulgarian-reader",
      "execution_count": 8,
      "outputs": [
        {
          "output_type": "stream",
          "name": "stdout",
          "text": [
            "Epoch 1/10\n",
            "1875/1875 [==============================] - 29s 15ms/step - loss: 0.2177 - accuracy: 0.9388 - val_loss: 0.0953 - val_accuracy: 0.9721\n",
            "Epoch 2/10\n",
            "1875/1875 [==============================] - 29s 15ms/step - loss: 0.0841 - accuracy: 0.9758 - val_loss: 0.0658 - val_accuracy: 0.9787\n",
            "Epoch 3/10\n",
            "1875/1875 [==============================] - 28s 15ms/step - loss: 0.0629 - accuracy: 0.9811 - val_loss: 0.0642 - val_accuracy: 0.9792\n",
            "Epoch 4/10\n",
            "1875/1875 [==============================] - 27s 14ms/step - loss: 0.0501 - accuracy: 0.9847 - val_loss: 0.0626 - val_accuracy: 0.9790\n",
            "Epoch 5/10\n",
            "1875/1875 [==============================] - 27s 14ms/step - loss: 0.0431 - accuracy: 0.9863 - val_loss: 0.0522 - val_accuracy: 0.9829\n",
            "Epoch 6/10\n",
            "1875/1875 [==============================] - 28s 15ms/step - loss: 0.0363 - accuracy: 0.9893 - val_loss: 0.0521 - val_accuracy: 0.9834\n",
            "Epoch 7/10\n",
            "1875/1875 [==============================] - 28s 15ms/step - loss: 0.0306 - accuracy: 0.9908 - val_loss: 0.0518 - val_accuracy: 0.9843\n",
            "Epoch 8/10\n",
            "1875/1875 [==============================] - 27s 14ms/step - loss: 0.0266 - accuracy: 0.9917 - val_loss: 0.0507 - val_accuracy: 0.9850\n",
            "Epoch 9/10\n",
            "1875/1875 [==============================] - 27s 14ms/step - loss: 0.0223 - accuracy: 0.9934 - val_loss: 0.0576 - val_accuracy: 0.9828\n",
            "Epoch 10/10\n",
            "1875/1875 [==============================] - 28s 15ms/step - loss: 0.0191 - accuracy: 0.9941 - val_loss: 0.0572 - val_accuracy: 0.9847\n"
          ]
        }
      ]
    },
    {
      "cell_type": "code",
      "metadata": {
        "colab": {
          "base_uri": "https://localhost:8080/"
        },
        "id": "difficult-princess",
        "outputId": "368a956f-7805-4cc2-c048-4d414419a1d5"
      },
      "source": [
        "# 모델 평가\n",
        "\n",
        "model.evaluate(x_valid_in, y_valid)"
      ],
      "id": "difficult-princess",
      "execution_count": 9,
      "outputs": [
        {
          "output_type": "stream",
          "name": "stdout",
          "text": [
            "313/313 [==============================] - 2s 5ms/step - loss: 0.0572 - accuracy: 0.9847\n"
          ]
        },
        {
          "output_type": "execute_result",
          "data": {
            "text/plain": [
              "[0.057186659425497055, 0.9847000241279602]"
            ]
          },
          "metadata": {},
          "execution_count": 9
        }
      ]
    },
    {
      "cell_type": "code",
      "metadata": {
        "id": "zP3lUAEWnO6w"
      },
      "source": [
        "# 학습 결과 시각화\n",
        "\n",
        "def plot_loss_acc(history, epoch):\n",
        "\n",
        "    loss, val_loss = history.history['loss'], history.history['val_loss']\n",
        "    acc, val_acc = history.history['accuracy'], history.history['val_accuracy']\n",
        "\n",
        "    fig, axes = plt.subplots(1, 2, figsize=(12, 4))\n",
        "\n",
        "    axes[0].plot(range(1, epoch + 1), loss, label='Training')\n",
        "    axes[0].plot(range(1, epoch + 1), val_loss, label='Validation')\n",
        "    axes[0].legend(loc='best')\n",
        "    axes[0].set_title('Loss')\n",
        "\n",
        "    axes[1].plot(range(1, epoch + 1), acc, label='Training')\n",
        "    axes[1].plot(range(1, epoch + 1), val_acc, label='Validation')\n",
        "    axes[1].legend(loc='best')\n",
        "    axes[1].set_title('Accuracy')\n",
        "\n",
        "    plt.show()"
      ],
      "id": "zP3lUAEWnO6w",
      "execution_count": 10,
      "outputs": []
    },
    {
      "cell_type": "code",
      "source": [
        "plot_loss_acc(history, 10)"
      ],
      "metadata": {
        "colab": {
          "base_uri": "https://localhost:8080/",
          "height": 391
        },
        "id": "0fgx-1MWtvWL",
        "outputId": "016d2c71-0de4-4a0d-d9e7-ffe7f0cbee42"
      },
      "id": "0fgx-1MWtvWL",
      "execution_count": 11,
      "outputs": [
        {
          "output_type": "display_data",
          "data": {
            "text/plain": [
              "<Figure size 1200x400 with 2 Axes>"
            ],
            "image/png": "[encoded data removed]"
          },
          "metadata": {}
        }
      ]
    },
    {
      "cell_type": "markdown",
      "source": [
        "- train set에 대한 손실은 계속 줄어드는 반면 valid set에 대한 손실은 어느 수준에서 더 이상 낮아지지 않고 있는 것을 확인할 수 있다.\n",
        "  - 4 epoch 이후\n",
        "  - 모델이 과대적합으로 진행되었다는 것을 파악할 수 있음"
      ],
      "metadata": {
        "id": "x3MaSVGeuI4a"
      },
      "id": "x3MaSVGeuI4a"
    },
    {
      "cell_type": "markdown",
      "source": [
        "## **2-3. 모델 구조 파악**"
      ],
      "metadata": {
        "id": "YKRqJ79XuZuR"
      },
      "id": "YKRqJ79XuZuR"
    },
    {
      "cell_type": "code",
      "metadata": {
        "colab": {
          "base_uri": "https://localhost:8080/"
        },
        "id": "broken-billy",
        "outputId": "c66c3f64-2988-4197-8e22-b62fc19a6f8a"
      },
      "source": [
        "# 모델 구조\n",
        "\n",
        "model.summary()"
      ],
      "id": "broken-billy",
      "execution_count": 12,
      "outputs": [
        {
          "output_type": "stream",
          "name": "stdout",
          "text": [
            "Model: \"sequential\"\n",
            "_________________________________________________________________\n",
            " Layer (type)                Output Shape              Param #   \n",
            "=================================================================\n",
            " conv (Conv2D)               (None, 26, 26, 32)        320       \n",
            "                                                                 \n",
            " pool (MaxPooling2D)         (None, 13, 13, 32)        0         \n",
            "                                                                 \n",
            " flatten (Flatten)           (None, 5408)              0         \n",
            "                                                                 \n",
            " dense (Dense)               (None, 10)                54090     \n",
            "                                                                 \n",
            "=================================================================\n",
            "Total params: 54410 (212.54 KB)\n",
            "Trainable params: 54410 (212.54 KB)\n",
            "Non-trainable params: 0 (0.00 Byte)\n",
            "_________________________________________________________________\n"
          ]
        }
      ]
    },
    {
      "cell_type": "code",
      "metadata": {
        "colab": {
          "base_uri": "https://localhost:8080/"
        },
        "id": "bridal-alignment",
        "outputId": "2a26a237-677f-4baa-abdb-a2cbd2580706"
      },
      "source": [
        "# 입력 텐서 형태\n",
        "\n",
        "model.input"
      ],
      "id": "bridal-alignment",
      "execution_count": 13,
      "outputs": [
        {
          "output_type": "execute_result",
          "data": {
            "text/plain": [
              "<KerasTensor: shape=(None, 28, 28, 1) dtype=float32 (created by layer 'conv_input')>"
            ]
          },
          "metadata": {},
          "execution_count": 13
        }
      ]
    },
    {
      "cell_type": "code",
      "metadata": {
        "colab": {
          "base_uri": "https://localhost:8080/"
        },
        "id": "bsZRWtCMcNov",
        "outputId": "f20f3b9c-3b5c-4ff3-d55a-804b41ef15b8"
      },
      "source": [
        "# 출력 텐서 형태\n",
        "\n",
        "model.output"
      ],
      "id": "bsZRWtCMcNov",
      "execution_count": 14,
      "outputs": [
        {
          "output_type": "execute_result",
          "data": {
            "text/plain": [
              "<KerasTensor: shape=(None, 10) dtype=float32 (created by layer 'dense')>"
            ]
          },
          "metadata": {},
          "execution_count": 14
        }
      ]
    },
    {
      "cell_type": "code",
      "metadata": {
        "colab": {
          "base_uri": "https://localhost:8080/"
        },
        "id": "downtown-cooking",
        "outputId": "6d4a7d04-5528-4d67-b9dd-33b25ac3d40a"
      },
      "source": [
        "# 레이어\n",
        "\n",
        "model.layers"
      ],
      "id": "downtown-cooking",
      "execution_count": 15,
      "outputs": [
        {
          "output_type": "execute_result",
          "data": {
            "text/plain": [
              "[<keras.src.layers.convolutional.conv2d.Conv2D at 0x79edfccf2e30>,\n",
              " <keras.src.layers.pooling.max_pooling2d.MaxPooling2D at 0x79ee002e6470>,\n",
              " <keras.src.layers.reshaping.flatten.Flatten at 0x79ee002e58d0>,\n",
              " <keras.src.layers.core.dense.Dense at 0x79ee002e5f30>]"
            ]
          },
          "metadata": {},
          "execution_count": 15
        }
      ]
    },
    {
      "cell_type": "code",
      "metadata": {
        "colab": {
          "base_uri": "https://localhost:8080/"
        },
        "id": "I7S3PdXNcfiw",
        "outputId": "575341df-e125-4977-cd47-79de40170f3c"
      },
      "source": [
        "# 첫번째 레이어 선택\n",
        "\n",
        "model.layers[0]"
      ],
      "id": "I7S3PdXNcfiw",
      "execution_count": 16,
      "outputs": [
        {
          "output_type": "execute_result",
          "data": {
            "text/plain": [
              "<keras.src.layers.convolutional.conv2d.Conv2D at 0x79edfccf2e30>"
            ]
          },
          "metadata": {},
          "execution_count": 16
        }
      ]
    },
    {
      "cell_type": "code",
      "metadata": {
        "colab": {
          "base_uri": "https://localhost:8080/"
        },
        "id": "r2O_XJDscfwF",
        "outputId": "6c569e94-b5bb-423f-bbb5-e4bc9dec48c0"
      },
      "source": [
        "# 첫번째 레이어의 입력\n",
        "\n",
        "model.layers[0].input"
      ],
      "id": "r2O_XJDscfwF",
      "execution_count": 17,
      "outputs": [
        {
          "output_type": "execute_result",
          "data": {
            "text/plain": [
              "<KerasTensor: shape=(None, 28, 28, 1) dtype=float32 (created by layer 'conv_input')>"
            ]
          },
          "metadata": {},
          "execution_count": 17
        }
      ]
    },
    {
      "cell_type": "code",
      "metadata": {
        "colab": {
          "base_uri": "https://localhost:8080/"
        },
        "id": "g6k5TC4pcfzj",
        "outputId": "b70b9715-9a32-4ca1-ee4a-424b893047ba"
      },
      "source": [
        "# 첫번째 레이어의 출력\n",
        "\n",
        "model.layers[0].output"
      ],
      "id": "g6k5TC4pcfzj",
      "execution_count": 18,
      "outputs": [
        {
          "output_type": "execute_result",
          "data": {
            "text/plain": [
              "<KerasTensor: shape=(None, 26, 26, 32) dtype=float32 (created by layer 'conv')>"
            ]
          },
          "metadata": {},
          "execution_count": 18
        }
      ]
    },
    {
      "cell_type": "code",
      "metadata": {
        "colab": {
          "base_uri": "https://localhost:8080/"
        },
        "id": "1JJXfeRocfsP",
        "outputId": "152e4c9b-3163-4525-de36-4deae832a509"
      },
      "source": [
        "# 첫번째 레이어의 가중치\n",
        "\n",
        "model.layers[0].weights"
      ],
      "id": "1JJXfeRocfsP",
      "execution_count": 19,
      "outputs": [
        {
          "output_type": "execute_result",
          "data": {
            "text/plain": [
              "[<tf.Variable 'conv/kernel:0' shape=(3, 3, 1, 32) dtype=float32, numpy=\n",
              " array([[[[-9.99851584e-01, -2.58719891e-01, -1.10860181e+00,\n",
              "           -5.38398027e-01, -6.07455194e-01,  1.31468084e-02,\n",
              "            3.74535650e-01,  2.60514528e-01,  7.04993904e-02,\n",
              "           -4.07890707e-01, -5.41677535e-01, -1.87238351e-01,\n",
              "           -1.04364181e+00, -3.05286855e-01,  3.75138640e-01,\n",
              "            2.92625964e-01, -9.81695712e-01, -1.01937456e-02,\n",
              "            3.46688718e-01,  1.84709683e-01,  4.61650521e-01,\n",
              "            1.80275008e-01,  3.21329713e-01,  3.05471271e-01,\n",
              "            3.39162573e-02,  4.13881950e-02,  3.23826939e-01,\n",
              "            2.70837724e-01,  1.81150287e-01, -5.91388166e-01,\n",
              "            4.54285145e-02,  3.17204833e-01]],\n",
              " \n",
              "         [[-8.18878949e-01, -5.62588036e-01, -1.00664520e+00,\n",
              "           -3.40696573e-02,  7.92281411e-04,  4.26423222e-01,\n",
              "            8.65069702e-02,  3.64290565e-01, -9.44844037e-02,\n",
              "            1.92395508e-01,  6.67744428e-02,  5.82251966e-01,\n",
              "           -3.35602641e-01,  1.76203981e-01,  1.82539269e-01,\n",
              "            1.98542774e-01,  1.46986200e-02, -2.68026888e-01,\n",
              "           -2.08461821e-01,  2.60574818e-01,  1.52799577e-01,\n",
              "            2.85725325e-01,  9.90543813e-02,  5.15898407e-01,\n",
              "            4.35994327e-01,  2.88670540e-01, -6.77095130e-02,\n",
              "            3.34181964e-01,  2.24943817e-01, -4.71666008e-01,\n",
              "           -6.92708075e-01,  3.38167667e-01]],\n",
              " \n",
              "         [[-4.43726964e-02, -8.14499557e-02, -1.07805157e+00,\n",
              "            2.21386194e-01,  1.77779794e-01, -5.83945811e-01,\n",
              "           -6.09481812e-01,  5.41163683e-01, -5.25042303e-02,\n",
              "            1.62616372e-01,  1.94473952e-01,  6.82667732e-01,\n",
              "            2.72647142e-01,  2.25011185e-01,  2.69250348e-02,\n",
              "           -2.03549355e-01,  5.73270023e-01, -4.89345521e-01,\n",
              "           -4.44280148e-01, -8.51139069e-01, -8.64299476e-01,\n",
              "           -4.12442833e-02,  1.87883243e-01,  2.42759153e-01,\n",
              "            5.66972196e-01,  4.94737297e-01, -3.14704120e-01,\n",
              "           -4.00964707e-01,  1.65457547e-01,  1.63631439e-01,\n",
              "           -7.44649291e-01, -4.45674121e-01]]],\n",
              " \n",
              " \n",
              "        [[[-7.17023611e-01,  2.79482841e-01,  5.30356944e-01,\n",
              "            1.95499822e-01, -1.76176339e-01, -2.63398916e-01,\n",
              "            1.91929504e-01, -7.75132030e-02,  5.04235439e-02,\n",
              "            1.34481087e-01, -4.69057783e-02, -1.73771486e-01,\n",
              "           -6.10673487e-01, -8.08424950e-01, -3.73474866e-01,\n",
              "           -1.81552004e-02, -9.34575558e-01,  4.15052563e-01,\n",
              "            2.68865049e-01,  1.83692396e-01,  6.80509865e-01,\n",
              "           -5.85289486e-02, -8.55699833e-03,  2.12943092e-01,\n",
              "           -6.10868931e-01, -5.49247146e-01,  1.19551159e-01,\n",
              "           -1.14390858e-01, -9.49819863e-04, -2.90627807e-01,\n",
              "           -4.01006579e-01, -3.04492027e-01]],\n",
              " \n",
              "         [[-9.95699763e-02,  2.93358445e-01,  1.46128207e-01,\n",
              "            4.24284190e-01,  4.97525662e-01,  4.13303882e-01,\n",
              "            2.06732705e-01,  3.41302007e-01, -4.54241633e-02,\n",
              "            5.63393950e-01,  4.78548229e-01,  2.09154487e-01,\n",
              "            3.52178961e-01, -1.64022699e-01,  1.63643926e-01,\n",
              "            1.70626089e-01,  5.00215963e-02,  2.25506946e-01,\n",
              "            2.02742755e-01,  4.26270366e-01, -2.38009430e-02,\n",
              "           -3.95792201e-02, -2.03597680e-01,  3.62536669e-01,\n",
              "           -1.05628002e+00,  7.76290670e-02, -2.72317588e-01,\n",
              "            2.33401656e-01, -1.90832257e-01,  2.10519210e-01,\n",
              "           -1.22992016e-01,  4.26494718e-01]],\n",
              " \n",
              "         [[ 4.24946636e-01,  3.22963208e-01, -8.98250759e-01,\n",
              "            1.14738971e-01,  4.37461212e-02,  1.15354672e-01,\n",
              "           -2.08754763e-01,  6.67766258e-02,  5.23733497e-02,\n",
              "           -3.90073389e-01,  4.97331005e-03,  1.92974299e-01,\n",
              "            4.49390411e-01,  5.69948554e-01,  1.24788791e-01,\n",
              "            2.87536234e-01,  5.83174586e-01,  3.38961482e-01,\n",
              "           -1.25356331e-01, -5.86533129e-01, -9.32300031e-01,\n",
              "           -2.39745602e-01, -2.61585802e-01, -4.97398376e-01,\n",
              "           -1.02831292e+00,  5.32683194e-01,  8.12690184e-02,\n",
              "           -1.88307270e-01,  1.06594816e-01,  3.20093721e-01,\n",
              "            1.14325002e-01,  1.63678482e-01]]],\n",
              " \n",
              " \n",
              "        [[[-9.10902917e-02,  1.19732805e-01,  8.47408295e-01,\n",
              "            3.33018810e-01,  1.67649701e-01, -2.65419960e-01,\n",
              "           -1.92903474e-01, -8.66543233e-01,  1.34478202e-02,\n",
              "            1.85212746e-01,  2.37750843e-01, -1.08036578e+00,\n",
              "           -2.09172443e-01, -5.11294961e-01, -3.25978041e-01,\n",
              "           -2.85799056e-01, -6.88557386e-01, -1.53806910e-01,\n",
              "           -1.33601338e-01,  2.11755261e-01,  4.85756993e-01,\n",
              "           -2.06286699e-01, -6.82123378e-02, -1.00803804e+00,\n",
              "            5.37043691e-01, -8.76089692e-01,  5.54533489e-02,\n",
              "           -4.91139740e-01, -1.40106544e-01, -3.29602696e-02,\n",
              "            3.62510264e-01, -4.36348885e-01]],\n",
              " \n",
              "         [[ 3.67628276e-01, -1.74753889e-02,  4.85138834e-01,\n",
              "           -2.08626583e-01,  2.73539901e-01, -1.98599488e-01,\n",
              "            2.68198937e-01, -7.68556654e-01,  3.53089161e-02,\n",
              "           -9.04095024e-02,  1.87059835e-01, -7.98768342e-01,\n",
              "            3.83631438e-01, -1.12502563e+00, -2.25369245e-01,\n",
              "           -2.94902176e-01,  1.05527140e-01, -1.78980991e-01,\n",
              "            1.08235449e-01,  4.57141191e-01,  1.03853196e-01,\n",
              "            2.76783437e-01,  1.58747539e-01, -9.16425467e-01,\n",
              "            6.43057704e-01, -5.59013724e-01,  2.42305890e-01,\n",
              "            2.81956136e-01, -2.16053322e-01,  4.05073047e-01,\n",
              "            7.46827066e-01, -4.90053631e-02]],\n",
              " \n",
              "         [[ 3.44723254e-01, -4.74984273e-02, -1.72949091e-01,\n",
              "           -4.35129791e-01, -6.50012612e-01,  2.32068673e-01,\n",
              "            4.02346075e-01, -5.79588950e-01,  4.43357937e-02,\n",
              "           -5.64184546e-01, -6.47836685e-01, -9.44334805e-01,\n",
              "            1.88602701e-01,  3.04847479e-01,  3.57201397e-01,\n",
              "            3.11237067e-01,  2.43580252e-01,  1.69998050e-01,\n",
              "            3.72319192e-01,  4.00659032e-02, -6.43949211e-01,\n",
              "            3.07289153e-01,  3.77867281e-01, -1.19006431e+00,\n",
              "            1.52583584e-01,  1.11679360e-01,  2.73421526e-01,\n",
              "            3.29474181e-01,  3.17440063e-01, -1.86942041e-01,\n",
              "            5.28013527e-01,  2.38681644e-01]]]], dtype=float32)>,\n",
              " <tf.Variable 'conv/bias:0' shape=(32,) dtype=float32, numpy=\n",
              " array([-0.00841341, -0.22507395,  0.18208805, -0.1877181 , -0.14829816,\n",
              "        -0.14911085, -0.5146088 , -0.07522851, -0.20249349, -0.14574912,\n",
              "        -0.17223845, -0.0063954 , -0.01906423, -0.10945198, -0.39800718,\n",
              "        -0.37045276, -0.05372415, -0.23435983, -0.41733557, -0.35651168,\n",
              "        -0.05848021, -0.3115865 , -0.31059384,  0.0732222 , -0.00242819,\n",
              "        -0.11931531, -0.3297827 , -0.25096306, -0.3508893 , -0.20713332,\n",
              "        -0.0445416 , -0.32406193], dtype=float32)>]"
            ]
          },
          "metadata": {},
          "execution_count": 19
        }
      ]
    },
    {
      "cell_type": "code",
      "metadata": {
        "colab": {
          "base_uri": "https://localhost:8080/"
        },
        "id": "T6kUGg_OdV63",
        "outputId": "b5ce7796-8fcc-487a-dada-2c4828b0c292"
      },
      "source": [
        "# 첫번째 레이어 커널 가중치\n",
        "\n",
        "model.layers[0].kernel"
      ],
      "id": "T6kUGg_OdV63",
      "execution_count": 20,
      "outputs": [
        {
          "output_type": "execute_result",
          "data": {
            "text/plain": [
              "<tf.Variable 'conv/kernel:0' shape=(3, 3, 1, 32) dtype=float32, numpy=\n",
              "array([[[[-9.99851584e-01, -2.58719891e-01, -1.10860181e+00,\n",
              "          -5.38398027e-01, -6.07455194e-01,  1.31468084e-02,\n",
              "           3.74535650e-01,  2.60514528e-01,  7.04993904e-02,\n",
              "          -4.07890707e-01, -5.41677535e-01, -1.87238351e-01,\n",
              "          -1.04364181e+00, -3.05286855e-01,  3.75138640e-01,\n",
              "           2.92625964e-01, -9.81695712e-01, -1.01937456e-02,\n",
              "           3.46688718e-01,  1.84709683e-01,  4.61650521e-01,\n",
              "           1.80275008e-01,  3.21329713e-01,  3.05471271e-01,\n",
              "           3.39162573e-02,  4.13881950e-02,  3.23826939e-01,\n",
              "           2.70837724e-01,  1.81150287e-01, -5.91388166e-01,\n",
              "           4.54285145e-02,  3.17204833e-01]],\n",
              "\n",
              "        [[-8.18878949e-01, -5.62588036e-01, -1.00664520e+00,\n",
              "          -3.40696573e-02,  7.92281411e-04,  4.26423222e-01,\n",
              "           8.65069702e-02,  3.64290565e-01, -9.44844037e-02,\n",
              "           1.92395508e-01,  6.67744428e-02,  5.82251966e-01,\n",
              "          -3.35602641e-01,  1.76203981e-01,  1.82539269e-01,\n",
              "           1.98542774e-01,  1.46986200e-02, -2.68026888e-01,\n",
              "          -2.08461821e-01,  2.60574818e-01,  1.52799577e-01,\n",
              "           2.85725325e-01,  9.90543813e-02,  5.15898407e-01,\n",
              "           4.35994327e-01,  2.88670540e-01, -6.77095130e-02,\n",
              "           3.34181964e-01,  2.24943817e-01, -4.71666008e-01,\n",
              "          -6.92708075e-01,  3.38167667e-01]],\n",
              "\n",
              "        [[-4.43726964e-02, -8.14499557e-02, -1.07805157e+00,\n",
              "           2.21386194e-01,  1.77779794e-01, -5.83945811e-01,\n",
              "          -6.09481812e-01,  5.41163683e-01, -5.25042303e-02,\n",
              "           1.62616372e-01,  1.94473952e-01,  6.82667732e-01,\n",
              "           2.72647142e-01,  2.25011185e-01,  2.69250348e-02,\n",
              "          -2.03549355e-01,  5.73270023e-01, -4.89345521e-01,\n",
              "          -4.44280148e-01, -8.51139069e-01, -8.64299476e-01,\n",
              "          -4.12442833e-02,  1.87883243e-01,  2.42759153e-01,\n",
              "           5.66972196e-01,  4.94737297e-01, -3.14704120e-01,\n",
              "          -4.00964707e-01,  1.65457547e-01,  1.63631439e-01,\n",
              "          -7.44649291e-01, -4.45674121e-01]]],\n",
              "\n",
              "\n",
              "       [[[-7.17023611e-01,  2.79482841e-01,  5.30356944e-01,\n",
              "           1.95499822e-01, -1.76176339e-01, -2.63398916e-01,\n",
              "           1.91929504e-01, -7.75132030e-02,  5.04235439e-02,\n",
              "           1.34481087e-01, -4.69057783e-02, -1.73771486e-01,\n",
              "          -6.10673487e-01, -8.08424950e-01, -3.73474866e-01,\n",
              "          -1.81552004e-02, -9.34575558e-01,  4.15052563e-01,\n",
              "           2.68865049e-01,  1.83692396e-01,  6.80509865e-01,\n",
              "          -5.85289486e-02, -8.55699833e-03,  2.12943092e-01,\n",
              "          -6.10868931e-01, -5.49247146e-01,  1.19551159e-01,\n",
              "          -1.14390858e-01, -9.49819863e-04, -2.90627807e-01,\n",
              "          -4.01006579e-01, -3.04492027e-01]],\n",
              "\n",
              "        [[-9.95699763e-02,  2.93358445e-01,  1.46128207e-01,\n",
              "           4.24284190e-01,  4.97525662e-01,  4.13303882e-01,\n",
              "           2.06732705e-01,  3.41302007e-01, -4.54241633e-02,\n",
              "           5.63393950e-01,  4.78548229e-01,  2.09154487e-01,\n",
              "           3.52178961e-01, -1.64022699e-01,  1.63643926e-01,\n",
              "           1.70626089e-01,  5.00215963e-02,  2.25506946e-01,\n",
              "           2.02742755e-01,  4.26270366e-01, -2.38009430e-02,\n",
              "          -3.95792201e-02, -2.03597680e-01,  3.62536669e-01,\n",
              "          -1.05628002e+00,  7.76290670e-02, -2.72317588e-01,\n",
              "           2.33401656e-01, -1.90832257e-01,  2.10519210e-01,\n",
              "          -1.22992016e-01,  4.26494718e-01]],\n",
              "\n",
              "        [[ 4.24946636e-01,  3.22963208e-01, -8.98250759e-01,\n",
              "           1.14738971e-01,  4.37461212e-02,  1.15354672e-01,\n",
              "          -2.08754763e-01,  6.67766258e-02,  5.23733497e-02,\n",
              "          -3.90073389e-01,  4.97331005e-03,  1.92974299e-01,\n",
              "           4.49390411e-01,  5.69948554e-01,  1.24788791e-01,\n",
              "           2.87536234e-01,  5.83174586e-01,  3.38961482e-01,\n",
              "          -1.25356331e-01, -5.86533129e-01, -9.32300031e-01,\n",
              "          -2.39745602e-01, -2.61585802e-01, -4.97398376e-01,\n",
              "          -1.02831292e+00,  5.32683194e-01,  8.12690184e-02,\n",
              "          -1.88307270e-01,  1.06594816e-01,  3.20093721e-01,\n",
              "           1.14325002e-01,  1.63678482e-01]]],\n",
              "\n",
              "\n",
              "       [[[-9.10902917e-02,  1.19732805e-01,  8.47408295e-01,\n",
              "           3.33018810e-01,  1.67649701e-01, -2.65419960e-01,\n",
              "          -1.92903474e-01, -8.66543233e-01,  1.34478202e-02,\n",
              "           1.85212746e-01,  2.37750843e-01, -1.08036578e+00,\n",
              "          -2.09172443e-01, -5.11294961e-01, -3.25978041e-01,\n",
              "          -2.85799056e-01, -6.88557386e-01, -1.53806910e-01,\n",
              "          -1.33601338e-01,  2.11755261e-01,  4.85756993e-01,\n",
              "          -2.06286699e-01, -6.82123378e-02, -1.00803804e+00,\n",
              "           5.37043691e-01, -8.76089692e-01,  5.54533489e-02,\n",
              "          -4.91139740e-01, -1.40106544e-01, -3.29602696e-02,\n",
              "           3.62510264e-01, -4.36348885e-01]],\n",
              "\n",
              "        [[ 3.67628276e-01, -1.74753889e-02,  4.85138834e-01,\n",
              "          -2.08626583e-01,  2.73539901e-01, -1.98599488e-01,\n",
              "           2.68198937e-01, -7.68556654e-01,  3.53089161e-02,\n",
              "          -9.04095024e-02,  1.87059835e-01, -7.98768342e-01,\n",
              "           3.83631438e-01, -1.12502563e+00, -2.25369245e-01,\n",
              "          -2.94902176e-01,  1.05527140e-01, -1.78980991e-01,\n",
              "           1.08235449e-01,  4.57141191e-01,  1.03853196e-01,\n",
              "           2.76783437e-01,  1.58747539e-01, -9.16425467e-01,\n",
              "           6.43057704e-01, -5.59013724e-01,  2.42305890e-01,\n",
              "           2.81956136e-01, -2.16053322e-01,  4.05073047e-01,\n",
              "           7.46827066e-01, -4.90053631e-02]],\n",
              "\n",
              "        [[ 3.44723254e-01, -4.74984273e-02, -1.72949091e-01,\n",
              "          -4.35129791e-01, -6.50012612e-01,  2.32068673e-01,\n",
              "           4.02346075e-01, -5.79588950e-01,  4.43357937e-02,\n",
              "          -5.64184546e-01, -6.47836685e-01, -9.44334805e-01,\n",
              "           1.88602701e-01,  3.04847479e-01,  3.57201397e-01,\n",
              "           3.11237067e-01,  2.43580252e-01,  1.69998050e-01,\n",
              "           3.72319192e-01,  4.00659032e-02, -6.43949211e-01,\n",
              "           3.07289153e-01,  3.77867281e-01, -1.19006431e+00,\n",
              "           1.52583584e-01,  1.11679360e-01,  2.73421526e-01,\n",
              "           3.29474181e-01,  3.17440063e-01, -1.86942041e-01,\n",
              "           5.28013527e-01,  2.38681644e-01]]]], dtype=float32)>"
            ]
          },
          "metadata": {},
          "execution_count": 20
        }
      ]
    },
    {
      "cell_type": "code",
      "metadata": {
        "colab": {
          "base_uri": "https://localhost:8080/"
        },
        "id": "6DOj4K_2drzJ",
        "outputId": "037a8aee-dd48-4a93-bba9-af7d6b8693d3"
      },
      "source": [
        "# 첫번째 레이어 bias 가중치\n",
        "\n",
        "model.layers[0].bias"
      ],
      "id": "6DOj4K_2drzJ",
      "execution_count": 21,
      "outputs": [
        {
          "output_type": "execute_result",
          "data": {
            "text/plain": [
              "<tf.Variable 'conv/bias:0' shape=(32,) dtype=float32, numpy=\n",
              "array([-0.00841341, -0.22507395,  0.18208805, -0.1877181 , -0.14829816,\n",
              "       -0.14911085, -0.5146088 , -0.07522851, -0.20249349, -0.14574912,\n",
              "       -0.17223845, -0.0063954 , -0.01906423, -0.10945198, -0.39800718,\n",
              "       -0.37045276, -0.05372415, -0.23435983, -0.41733557, -0.35651168,\n",
              "       -0.05848021, -0.3115865 , -0.31059384,  0.0732222 , -0.00242819,\n",
              "       -0.11931531, -0.3297827 , -0.25096306, -0.3508893 , -0.20713332,\n",
              "       -0.0445416 , -0.32406193], dtype=float32)>"
            ]
          },
          "metadata": {},
          "execution_count": 21
        }
      ]
    },
    {
      "cell_type": "code",
      "metadata": {
        "colab": {
          "base_uri": "https://localhost:8080/"
        },
        "id": "JdSi6v_xeGiQ",
        "outputId": "fac24454-9d8b-4ab6-a0ee-e4924e30184d"
      },
      "source": [
        "# 레이어 이름 사용하여 레이어 선택\n",
        "\n",
        "model.get_layer('conv')"
      ],
      "id": "JdSi6v_xeGiQ",
      "execution_count": 22,
      "outputs": [
        {
          "output_type": "execute_result",
          "data": {
            "text/plain": [
              "<keras.src.layers.convolutional.conv2d.Conv2D at 0x79edfccf2e30>"
            ]
          },
          "metadata": {},
          "execution_count": 22
        }
      ]
    },
    {
      "cell_type": "code",
      "metadata": {
        "colab": {
          "base_uri": "https://localhost:8080/"
        },
        "id": "continuous-chocolate",
        "outputId": "251eaf0b-08ee-427b-a6f2-e3bc0c39df5d"
      },
      "source": [
        "## 예측\n",
        "# 샘플 이미지의 레이어별 출력을 리스트에 추가 (첫번째, 두번째 레이어)\n",
        "activator = tf.keras.Model(inputs = model.input,\n",
        "                           outputs = [layer.output for layer in model.layers[:2]] )\n",
        "activations = activator.predict(x_train_in[0][tf.newaxis, ...])\n",
        "\n",
        "len(activations)"
      ],
      "id": "continuous-chocolate",
      "execution_count": 23,
      "outputs": [
        {
          "output_type": "stream",
          "name": "stdout",
          "text": [
            "1/1 [==============================] - 0s 85ms/step\n"
          ]
        },
        {
          "output_type": "execute_result",
          "data": {
            "text/plain": [
              "2"
            ]
          },
          "metadata": {},
          "execution_count": 23
        }
      ]
    },
    {
      "cell_type": "code",
      "metadata": {
        "colab": {
          "base_uri": "https://localhost:8080/"
        },
        "id": "affiliated-insert",
        "outputId": "2fb733fd-4ea9-4220-cb77-4f3f3c8ad9f3"
      },
      "source": [
        "# 첫 번째 레이어(conv) 출력층\n",
        "\n",
        "conv_activation = activations[0]\n",
        "conv_activation.shape"
      ],
      "id": "affiliated-insert",
      "execution_count": 24,
      "outputs": [
        {
          "output_type": "execute_result",
          "data": {
            "text/plain": [
              "(1, 26, 26, 32)"
            ]
          },
          "metadata": {},
          "execution_count": 24
        }
      ]
    },
    {
      "cell_type": "code",
      "metadata": {
        "colab": {
          "base_uri": "https://localhost:8080/",
          "height": 508
        },
        "id": "advisory-testing",
        "outputId": "281e4276-adfe-4911-e0a0-0c31d4763555"
      },
      "source": [
        "# Convolution Layer 시각화\n",
        "\n",
        "fig, axes = plt.subplots(4, 8)\n",
        "fig.set_size_inches(10, 5)\n",
        "\n",
        "for i in range(32):\n",
        "    axes[i//8, i%8].matshow(conv_activation[0, :, :, i], cmap='viridis')\n",
        "    axes[i//8, i%8].set_title('kernel %s'%str(i), fontsize=10)\n",
        "    plt.setp( axes[i//8, i%8].get_xticklabels(), visible=False)\n",
        "    plt.setp( axes[i//8, i%8].get_yticklabels(), visible=False)\n",
        "\n",
        "plt.tight_layout()\n",
        "plt.show()"
      ],
      "id": "advisory-testing",
      "execution_count": 25,
      "outputs": [
        {
          "output_type": "display_data",
          "data": {
            "text/plain": [
              "<Figure size 1000x500 with 32 Axes>"
            ],
            "image/png": "[encoded data removed]"
          },
          "metadata": {}
        }
      ]
    },
    {
      "cell_type": "code",
      "metadata": {
        "colab": {
          "base_uri": "https://localhost:8080/"
        },
        "id": "funded-collins",
        "outputId": "8e03cdaf-8bba-47a9-afad-b72e321c7974"
      },
      "source": [
        "# 두 번째 레이어(pool) 출력층\n",
        "\n",
        "pooling_activation = activations[1]\n",
        "print(pooling_activation.shape)"
      ],
      "id": "funded-collins",
      "execution_count": 26,
      "outputs": [
        {
          "output_type": "stream",
          "name": "stdout",
          "text": [
            "(1, 13, 13, 32)\n"
          ]
        }
      ]
    },
    {
      "cell_type": "code",
      "metadata": {
        "colab": {
          "base_uri": "https://localhost:8080/",
          "height": 508
        },
        "id": "thorough-algebra",
        "outputId": "d52f2ccf-7c47-47d2-8cea-9e82cc96e7fb"
      },
      "source": [
        "# Pooling Layer 시각화\n",
        "fig, axes = plt.subplots(4, 8)\n",
        "fig.set_size_inches(10, 5)\n",
        "\n",
        "for i in range(32):\n",
        "    axes[i//8, i%8].matshow(pooling_activation[0, :, :, i], cmap='viridis')\n",
        "    axes[i//8, i%8].set_title('kernel %s'%str(i), fontsize=10)\n",
        "    plt.setp( axes[i//8, i%8].get_xticklabels(), visible=False)\n",
        "    plt.setp( axes[i//8, i%8].get_yticklabels(), visible=False)\n",
        "\n",
        "plt.tight_layout()\n",
        "plt.show()"
      ],
      "id": "thorough-algebra",
      "execution_count": 27,
      "outputs": [
        {
          "output_type": "display_data",
          "data": {
            "text/plain": [
              "<Figure size 1000x500 with 32 Axes>"
            ],
            "image/png": "[encoded data removed]"
          },
          "metadata": {}
        }
      ]
    },
    {
      "cell_type": "markdown",
      "source": [
        "# **3. 복잡한 모델 생성**"
      ],
      "metadata": {
        "id": "S_bRRhCY2i-a"
      },
      "id": "S_bRRhCY2i-a"
    },
    {
      "cell_type": "markdown",
      "source": [
        "## **3-1. 데이터셋 준비**"
      ],
      "metadata": {
        "id": "qFNc84nJ3K4p"
      },
      "id": "qFNc84nJ3K4p"
    },
    {
      "cell_type": "markdown",
      "metadata": {
        "id": "bkINQh672rPK"
      },
      "source": [
        "### **import**"
      ],
      "id": "bkINQh672rPK"
    },
    {
      "cell_type": "code",
      "metadata": {
        "id": "PFYXsuFJ2rPK"
      },
      "source": [
        "import tensorflow as tf\n",
        "import numpy as np"
      ],
      "execution_count": 28,
      "outputs": [],
      "id": "PFYXsuFJ2rPK"
    },
    {
      "cell_type": "markdown",
      "metadata": {
        "id": "YzNRnpj82rPK"
      },
      "source": [
        "### **Dataset**"
      ],
      "id": "YzNRnpj82rPK"
    },
    {
      "cell_type": "code",
      "metadata": {
        "colab": {
          "base_uri": "https://localhost:8080/"
        },
        "outputId": "96c39916-56f5-4959-91b9-be9e9f4cf237",
        "id": "Feo1wkJk2rPL"
      },
      "source": [
        "# MNIST 손글씨 이미지 데이터 로드\n",
        "\n",
        "mnist = tf.keras.datasets.mnist\n",
        "(x_train, y_train), (x_valid, y_valid) = mnist.load_data()\n",
        "\n",
        "print(x_train.shape, y_train.shape)\n",
        "print(x_valid.shape, y_valid.shape)"
      ],
      "execution_count": 29,
      "outputs": [
        {
          "output_type": "stream",
          "name": "stdout",
          "text": [
            "(60000, 28, 28) (60000,)\n",
            "(10000, 28, 28) (10000,)\n"
          ]
        }
      ],
      "id": "Feo1wkJk2rPL"
    },
    {
      "cell_type": "code",
      "metadata": {
        "colab": {
          "base_uri": "https://localhost:8080/"
        },
        "id": "PSQtrUzlDzEh",
        "outputId": "d9c6b094-58a9-4db5-b4f9-57f9845b5c34"
      },
      "source": [
        "# 새로운 출력값 배열을 생성(홀수: 1, 짝수: 0)\n",
        "\n",
        "y_train_odd = []\n",
        "for y in y_train:\n",
        "  if y % 2==0:\n",
        "    y_train_odd.append(0)\n",
        "  else:\n",
        "    y_train_odd.append(1)\n",
        "\n",
        "y_train_odd = np.array(y_train_odd)\n",
        "y_train_odd.shape"
      ],
      "execution_count": 30,
      "outputs": [
        {
          "output_type": "execute_result",
          "data": {
            "text/plain": [
              "(60000,)"
            ]
          },
          "metadata": {},
          "execution_count": 30
        }
      ],
      "id": "PSQtrUzlDzEh"
    },
    {
      "cell_type": "code",
      "metadata": {
        "colab": {
          "base_uri": "https://localhost:8080/"
        },
        "id": "VRDAGd1bDzJH",
        "outputId": "88bb01af-76d4-46a7-e65c-6e986f7f65af"
      },
      "source": [
        "print(y_train[:10])\n",
        "print(y_train_odd[:10])"
      ],
      "execution_count": 31,
      "outputs": [
        {
          "output_type": "stream",
          "name": "stdout",
          "text": [
            "[5 0 4 1 9 2 1 3 1 4]\n",
            "[1 0 0 1 1 0 1 1 1 0]\n"
          ]
        }
      ],
      "id": "VRDAGd1bDzJH"
    },
    {
      "cell_type": "markdown",
      "source": [
        "홀짝 여부가 잘 정리된 것을 확인할 수 있다."
      ],
      "metadata": {
        "id": "YX0byvnGhFS4"
      },
      "id": "YX0byvnGhFS4"
    },
    {
      "cell_type": "code",
      "metadata": {
        "colab": {
          "base_uri": "https://localhost:8080/"
        },
        "id": "htmRcH-7DzN9",
        "outputId": "8457d562-cad8-4786-f4e2-8ee603feb18e"
      },
      "source": [
        "# Validation 데이터셋 처리\n",
        "\n",
        "y_valid_odd = []\n",
        "for y in y_valid:\n",
        "  if y % 2==0:\n",
        "    y_valid_odd.append(0)\n",
        "  else:\n",
        "    y_valid_odd.append(1)\n",
        "\n",
        "y_valid_odd = np.array(y_valid_odd)\n",
        "y_valid_odd.shape"
      ],
      "execution_count": 32,
      "outputs": [
        {
          "output_type": "execute_result",
          "data": {
            "text/plain": [
              "(10000,)"
            ]
          },
          "metadata": {},
          "execution_count": 32
        }
      ],
      "id": "htmRcH-7DzN9"
    },
    {
      "cell_type": "code",
      "metadata": {
        "colab": {
          "base_uri": "https://localhost:8080/"
        },
        "outputId": "c5b61001-70bd-4f7e-f021-fa72c22b6b47",
        "id": "GQwtdB5P2rPL"
      },
      "source": [
        "# 정규화(Normalization)\n",
        "x_train = x_train / 255.0\n",
        "x_valid = x_valid / 255.0\n",
        "\n",
        "# 채널 추가\n",
        "x_train_in = tf.expand_dims(x_train, -1)\n",
        "x_valid_in = tf.expand_dims(x_valid, -1)\n",
        "\n",
        "print(x_train_in.shape, x_valid_in.shape)"
      ],
      "execution_count": 33,
      "outputs": [
        {
          "output_type": "stream",
          "name": "stdout",
          "text": [
            "(60000, 28, 28, 1) (10000, 28, 28, 1)\n"
          ]
        }
      ],
      "id": "GQwtdB5P2rPL"
    },
    {
      "cell_type": "markdown",
      "metadata": {
        "id": "J1m57AAQHF6T"
      },
      "source": [
        "## **3-2. 복잡한 구조로 모델 생성**\n",
        "- 출력을 2개로 나누기 (분기)\n",
        "- 2개의 입력을 받는 레이어 구조 만들기"
      ],
      "id": "J1m57AAQHF6T"
    },
    {
      "cell_type": "code",
      "metadata": {
        "colab": {
          "base_uri": "https://localhost:8080/"
        },
        "id": "KjhdYL8iHEox",
        "outputId": "68fa8d0c-fde6-4d3f-a98a-db8a488f1e47"
      },
      "source": [
        "### Functional API를 사용하여 모델 생성\n",
        "\n",
        "# 입력층\n",
        "inputs = tf.keras.layers.Input(shape = (28, 28, 1))\n",
        "\n",
        "# 중간층\n",
        "conv = tf.keras.layers.Conv2D(32, (3, 3), activation = 'relu')(inputs)\n",
        "pool = tf.keras.layers.MaxPooling2D((2, 2))(conv)\n",
        "flat = tf.keras.layers.Flatten()(pool)\n",
        "\n",
        "flat_inputs = tf.keras.layers.Flatten()(inputs)\n",
        "concat = tf.keras.layers.Concatenate()([flat, flat_inputs])\n",
        "outputs = tf.keras.layers.Dense(10, activation = 'softmax')(concat)\n",
        "\n",
        "model = tf.keras.models.Model(inputs = inputs, outputs = outputs)\n",
        "\n",
        "model.summary()"
      ],
      "execution_count": 34,
      "outputs": [
        {
          "output_type": "stream",
          "name": "stdout",
          "text": [
            "Model: \"model_1\"\n",
            "__________________________________________________________________________________________________\n",
            " Layer (type)                Output Shape                 Param #   Connected to                  \n",
            "==================================================================================================\n",
            " input_1 (InputLayer)        [(None, 28, 28, 1)]          0         []                            \n",
            "                                                                                                  \n",
            " conv2d (Conv2D)             (None, 26, 26, 32)           320       ['input_1[0][0]']             \n",
            "                                                                                                  \n",
            " max_pooling2d (MaxPooling2  (None, 13, 13, 32)           0         ['conv2d[0][0]']              \n",
            " D)                                                                                               \n",
            "                                                                                                  \n",
            " flatten_1 (Flatten)         (None, 5408)                 0         ['max_pooling2d[0][0]']       \n",
            "                                                                                                  \n",
            " flatten_2 (Flatten)         (None, 784)                  0         ['input_1[0][0]']             \n",
            "                                                                                                  \n",
            " concatenate (Concatenate)   (None, 6192)                 0         ['flatten_1[0][0]',           \n",
            "                                                                     'flatten_2[0][0]']           \n",
            "                                                                                                  \n",
            " dense_1 (Dense)             (None, 10)                   61930     ['concatenate[0][0]']         \n",
            "                                                                                                  \n",
            "==================================================================================================\n",
            "Total params: 62250 (243.16 KB)\n",
            "Trainable params: 62250 (243.16 KB)\n",
            "Non-trainable params: 0 (0.00 Byte)\n",
            "__________________________________________________________________________________________________\n"
          ]
        }
      ],
      "id": "KjhdYL8iHEox"
    },
    {
      "cell_type": "code",
      "metadata": {
        "colab": {
          "base_uri": "https://localhost:8080/",
          "height": 644
        },
        "id": "fKupDQWHHEsi",
        "outputId": "8d330510-0701-4b40-db3a-9acaddbbc1af"
      },
      "source": [
        "# 모델 구조 출력 및 이미지 파일로 저장\n",
        "\n",
        "from keras.utils import plot_model\n",
        "\n",
        "plot_model(model, show_shapes=True, show_layer_names=True, to_file='functional_cnn.png')"
      ],
      "execution_count": 37,
      "outputs": [
        {
          "output_type": "execute_result",
          "data": {
            "image/png": "[encoded data removed]",
            "text/plain": [
              "<IPython.core.display.Image object>"
            ]
          },
          "metadata": {},
          "execution_count": 37
        }
      ],
      "id": "fKupDQWHHEsi"
    },
    {
      "cell_type": "code",
      "metadata": {
        "colab": {
          "base_uri": "https://localhost:8080/"
        },
        "id": "cmuKybjKHEv2",
        "outputId": "b0468221-3f9f-4d6c-e838-8cba0dcd5fec"
      },
      "source": [
        "# 모델 컴파일\n",
        "model.compile(optimizer = 'adam', loss = 'sparse_categorical_crossentropy', metrics = ['accuracy'])\n",
        "\n",
        "# 모델 훈련\n",
        "history = model.fit(x_train_in, y_train,\n",
        "                    validation_data = (x_valid_in, y_valid),\n",
        "                    epochs = 10)\n",
        "\n",
        "# 모델 성능\n",
        "val_loss, val_acc = model.evaluate(x_valid_in, y_valid)\n",
        "print(val_loss, val_acc)"
      ],
      "execution_count": 38,
      "outputs": [
        {
          "output_type": "stream",
          "name": "stdout",
          "text": [
            "Epoch 1/10\n",
            "1875/1875 [==============================] - 32s 17ms/step - loss: 0.1997 - accuracy: 0.9431 - val_loss: 0.0854 - val_accuracy: 0.9743\n",
            "Epoch 2/10\n",
            "1875/1875 [==============================] - 28s 15ms/step - loss: 0.0774 - accuracy: 0.9769 - val_loss: 0.0613 - val_accuracy: 0.9797\n",
            "Epoch 3/10\n",
            "1875/1875 [==============================] - 29s 16ms/step - loss: 0.0595 - accuracy: 0.9819 - val_loss: 0.0587 - val_accuracy: 0.9805\n",
            "Epoch 4/10\n",
            "1875/1875 [==============================] - 28s 15ms/step - loss: 0.0483 - accuracy: 0.9848 - val_loss: 0.0558 - val_accuracy: 0.9820\n",
            "Epoch 5/10\n",
            "1875/1875 [==============================] - 29s 15ms/step - loss: 0.0409 - accuracy: 0.9874 - val_loss: 0.0604 - val_accuracy: 0.9807\n",
            "Epoch 6/10\n",
            "1875/1875 [==============================] - 29s 15ms/step - loss: 0.0334 - accuracy: 0.9898 - val_loss: 0.0567 - val_accuracy: 0.9829\n",
            "Epoch 7/10\n",
            "1875/1875 [==============================] - 29s 16ms/step - loss: 0.0284 - accuracy: 0.9914 - val_loss: 0.0577 - val_accuracy: 0.9836\n",
            "Epoch 8/10\n",
            "1875/1875 [==============================] - 28s 15ms/step - loss: 0.0231 - accuracy: 0.9929 - val_loss: 0.0545 - val_accuracy: 0.9852\n",
            "Epoch 9/10\n",
            "1875/1875 [==============================] - 29s 16ms/step - loss: 0.0205 - accuracy: 0.9933 - val_loss: 0.0578 - val_accuracy: 0.9839\n",
            "Epoch 10/10\n",
            "1875/1875 [==============================] - 29s 15ms/step - loss: 0.0169 - accuracy: 0.9949 - val_loss: 0.0724 - val_accuracy: 0.9812\n",
            "313/313 [==============================] - 2s 5ms/step - loss: 0.0724 - accuracy: 0.9812\n",
            "0.07237166911363602 0.9811999797821045\n"
          ]
        }
      ],
      "id": "cmuKybjKHEv2"
    },
    {
      "cell_type": "markdown",
      "metadata": {
        "id": "p23ItjLsKubB"
      },
      "source": [
        "## **3-3. multi-output 모델**\n",
        "- 출력 1 : 0 ~ 9 까지 숫자 예측\n",
        "- 출력 2: 각 숫자가 홀수인지 짝수인지 예측"
      ],
      "id": "p23ItjLsKubB"
    },
    {
      "cell_type": "code",
      "metadata": {
        "colab": {
          "base_uri": "https://localhost:8080/"
        },
        "id": "DN0SGj26HE5e",
        "outputId": "3fd01154-23f1-4b32-f2ee-31fe682ebb3d"
      },
      "source": [
        "### Functional API를 사용하여 모델 생성\n",
        "\n",
        "# 입력층\n",
        "inputs = tf.keras.layers.Input(shape = (28, 28, 1), name = 'inputs')\n",
        "\n",
        "# 중간층\n",
        "conv = tf.keras.layers.Conv2D(32, (3, 3), activation = 'relu', name = 'conv2d_layer')(inputs)\n",
        "pool = tf.keras.layers.MaxPooling2D((2, 2), name = 'maxpool_layer')(conv)\n",
        "flat = tf.keras.layers.Flatten(name = 'flatten_layer')(pool)\n",
        "\n",
        "# 출력층\n",
        "flat_inputs = tf.keras.layers.Flatten()(inputs)\n",
        "concat = tf.keras.layers.Concatenate()([flat, flat_inputs])\n",
        "digit_outputs = tf.keras.layers.Dense(10, activation = 'softmax', name = 'digit_dense')(concat) # 출력층 1\n",
        "odd_outputs = tf.keras.layers.Dense(1, activation='sigmoid', name='odd_dense')(flat_inputs) # 출력층 2\n",
        "\n",
        "model = tf.keras.models.Model(inputs = inputs, outputs = [digit_outputs, odd_outputs]) # outputs에 출력층을 모두 넘겨주기\n",
        "\n",
        "model.summary()"
      ],
      "execution_count": 39,
      "outputs": [
        {
          "output_type": "stream",
          "name": "stdout",
          "text": [
            "Model: \"model_2\"\n",
            "__________________________________________________________________________________________________\n",
            " Layer (type)                Output Shape                 Param #   Connected to                  \n",
            "==================================================================================================\n",
            " inputs (InputLayer)         [(None, 28, 28, 1)]          0         []                            \n",
            "                                                                                                  \n",
            " conv2d_layer (Conv2D)       (None, 26, 26, 32)           320       ['inputs[0][0]']              \n",
            "                                                                                                  \n",
            " maxpool_layer (MaxPooling2  (None, 13, 13, 32)           0         ['conv2d_layer[0][0]']        \n",
            " D)                                                                                               \n",
            "                                                                                                  \n",
            " flatten_layer (Flatten)     (None, 5408)                 0         ['maxpool_layer[0][0]']       \n",
            "                                                                                                  \n",
            " flatten_3 (Flatten)         (None, 784)                  0         ['inputs[0][0]']              \n",
            "                                                                                                  \n",
            " concatenate_1 (Concatenate  (None, 6192)                 0         ['flatten_layer[0][0]',       \n",
            " )                                                                   'flatten_3[0][0]']           \n",
            "                                                                                                  \n",
            " digit_dense (Dense)         (None, 10)                   61930     ['concatenate_1[0][0]']       \n",
            "                                                                                                  \n",
            " odd_dense (Dense)           (None, 1)                    785       ['flatten_3[0][0]']           \n",
            "                                                                                                  \n",
            "==================================================================================================\n",
            "Total params: 63035 (246.23 KB)\n",
            "Trainable params: 63035 (246.23 KB)\n",
            "Non-trainable params: 0 (0.00 Byte)\n",
            "__________________________________________________________________________________________________\n"
          ]
        }
      ],
      "id": "DN0SGj26HE5e"
    },
    {
      "cell_type": "code",
      "metadata": {
        "colab": {
          "base_uri": "https://localhost:8080/"
        },
        "id": "5cSYuY69YvZc",
        "outputId": "5bb5eebf-d0a9-4aec-c53c-02b7a05597f4"
      },
      "source": [
        "# 모델의 입력과 출력을 나타내는 텐서\n",
        "\n",
        "print(model.input)\n",
        "print(model.output)"
      ],
      "execution_count": 40,
      "outputs": [
        {
          "output_type": "stream",
          "name": "stdout",
          "text": [
            "KerasTensor(type_spec=TensorSpec(shape=(None, 28, 28, 1), dtype=tf.float32, name='inputs'), name='inputs', description=\"created by layer 'inputs'\")\n",
            "[<KerasTensor: shape=(None, 10) dtype=float32 (created by layer 'digit_dense')>, <KerasTensor: shape=(None, 1) dtype=float32 (created by layer 'odd_dense')>]\n"
          ]
        }
      ],
      "id": "5cSYuY69YvZc"
    },
    {
      "cell_type": "code",
      "metadata": {
        "colab": {
          "base_uri": "https://localhost:8080/",
          "height": 644
        },
        "id": "v9Aatr4uLen-",
        "outputId": "c78cdfe4-784b-4717-be35-b7be89d9cf24"
      },
      "source": [
        "plot_model(model, show_shapes=True, show_layer_names=True, to_file='multi_output_cnn.png')"
      ],
      "execution_count": 41,
      "outputs": [
        {
          "output_type": "execute_result",
          "data": {
            "image/png": "[encoded data removed]",
            "text/plain": [
              "<IPython.core.display.Image object>"
            ]
          },
          "metadata": {},
          "execution_count": 41
        }
      ],
      "id": "v9Aatr4uLen-"
    },
    {
      "cell_type": "code",
      "metadata": {
        "colab": {
          "base_uri": "https://localhost:8080/"
        },
        "id": "Iads2TwbLerI",
        "outputId": "f21f6d3d-32c8-4bc4-881c-4bd848a3e7d1"
      },
      "source": [
        "# 모델 컴파일\n",
        "model.compile(optimizer='adam',\n",
        "              loss = {'digit_dense': 'sparse_categorical_crossentropy', 'odd_dense': 'binary_crossentropy'},\n",
        "              loss_weights = {'digit_dense': 1, 'odd_dense': 0.5}, # loss = 1.0 *sparse_categorical_crossentropy + 0.5*binary_crossentropy\n",
        "              metrics = ['accuracy'])\n",
        "\n",
        "# 모델 훈련\n",
        "history = model.fit({'inputs': x_train_in}, {'digit_dense': y_train, 'odd_dense': y_train_odd},\n",
        "                    validation_data=({'inputs': x_valid_in},  {'digit_dense': y_valid, 'odd_dense': y_valid_odd}),\n",
        "                    epochs=10)"
      ],
      "execution_count": 42,
      "outputs": [
        {
          "output_type": "stream",
          "name": "stdout",
          "text": [
            "Epoch 1/10\n",
            "1875/1875 [==============================] - 32s 16ms/step - loss: 0.3587 - digit_dense_loss: 0.1957 - odd_dense_loss: 0.3258 - digit_dense_accuracy: 0.9441 - odd_dense_accuracy: 0.8653 - val_loss: 0.2201 - val_digit_dense_loss: 0.0825 - val_odd_dense_loss: 0.2753 - val_digit_dense_accuracy: 0.9750 - val_odd_dense_accuracy: 0.8889\n",
            "Epoch 2/10\n",
            "1875/1875 [==============================] - 30s 16ms/step - loss: 0.2131 - digit_dense_loss: 0.0771 - odd_dense_loss: 0.2719 - digit_dense_accuracy: 0.9771 - odd_dense_accuracy: 0.8914 - val_loss: 0.1976 - val_digit_dense_loss: 0.0657 - val_odd_dense_loss: 0.2639 - val_digit_dense_accuracy: 0.9783 - val_odd_dense_accuracy: 0.8964\n",
            "Epoch 3/10\n",
            "1875/1875 [==============================] - 30s 16ms/step - loss: 0.1903 - digit_dense_loss: 0.0590 - odd_dense_loss: 0.2627 - digit_dense_accuracy: 0.9822 - odd_dense_accuracy: 0.8952 - val_loss: 0.1913 - val_digit_dense_loss: 0.0611 - val_odd_dense_loss: 0.2604 - val_digit_dense_accuracy: 0.9815 - val_odd_dense_accuracy: 0.8967\n",
            "Epoch 4/10\n",
            "1875/1875 [==============================] - 31s 16ms/step - loss: 0.1793 - digit_dense_loss: 0.0498 - odd_dense_loss: 0.2590 - digit_dense_accuracy: 0.9849 - odd_dense_accuracy: 0.8976 - val_loss: 0.1878 - val_digit_dense_loss: 0.0594 - val_odd_dense_loss: 0.2567 - val_digit_dense_accuracy: 0.9792 - val_odd_dense_accuracy: 0.9021\n",
            "Epoch 5/10\n",
            "1875/1875 [==============================] - 29s 16ms/step - loss: 0.1695 - digit_dense_loss: 0.0412 - odd_dense_loss: 0.2566 - digit_dense_accuracy: 0.9871 - odd_dense_accuracy: 0.8991 - val_loss: 0.1878 - val_digit_dense_loss: 0.0599 - val_odd_dense_loss: 0.2558 - val_digit_dense_accuracy: 0.9820 - val_odd_dense_accuracy: 0.9030\n",
            "Epoch 6/10\n",
            "1875/1875 [==============================] - 30s 16ms/step - loss: 0.1625 - digit_dense_loss: 0.0348 - odd_dense_loss: 0.2555 - digit_dense_accuracy: 0.9890 - odd_dense_accuracy: 0.9002 - val_loss: 0.1850 - val_digit_dense_loss: 0.0571 - val_odd_dense_loss: 0.2558 - val_digit_dense_accuracy: 0.9830 - val_odd_dense_accuracy: 0.9010\n",
            "Epoch 7/10\n",
            "1875/1875 [==============================] - 30s 16ms/step - loss: 0.1565 - digit_dense_loss: 0.0292 - odd_dense_loss: 0.2547 - digit_dense_accuracy: 0.9908 - odd_dense_accuracy: 0.8999 - val_loss: 0.1896 - val_digit_dense_loss: 0.0609 - val_odd_dense_loss: 0.2573 - val_digit_dense_accuracy: 0.9817 - val_odd_dense_accuracy: 0.8988\n",
            "Epoch 8/10\n",
            "1875/1875 [==============================] - 30s 16ms/step - loss: 0.1521 - digit_dense_loss: 0.0250 - odd_dense_loss: 0.2542 - digit_dense_accuracy: 0.9923 - odd_dense_accuracy: 0.9012 - val_loss: 0.1836 - val_digit_dense_loss: 0.0551 - val_odd_dense_loss: 0.2571 - val_digit_dense_accuracy: 0.9843 - val_odd_dense_accuracy: 0.8999\n",
            "Epoch 9/10\n",
            "1875/1875 [==============================] - 31s 16ms/step - loss: 0.1479 - digit_dense_loss: 0.0209 - odd_dense_loss: 0.2539 - digit_dense_accuracy: 0.9934 - odd_dense_accuracy: 0.9013 - val_loss: 0.1984 - val_digit_dense_loss: 0.0704 - val_odd_dense_loss: 0.2560 - val_digit_dense_accuracy: 0.9806 - val_odd_dense_accuracy: 0.9008\n",
            "Epoch 10/10\n",
            "1875/1875 [==============================] - 30s 16ms/step - loss: 0.1453 - digit_dense_loss: 0.0187 - odd_dense_loss: 0.2533 - digit_dense_accuracy: 0.9941 - odd_dense_accuracy: 0.9006 - val_loss: 0.1976 - val_digit_dense_loss: 0.0676 - val_odd_dense_loss: 0.2600 - val_digit_dense_accuracy: 0.9814 - val_odd_dense_accuracy: 0.8970\n"
          ]
        }
      ],
      "id": "Iads2TwbLerI"
    },
    {
      "cell_type": "code",
      "metadata": {
        "colab": {
          "base_uri": "https://localhost:8080/"
        },
        "id": "b0hTwdX9Leuq",
        "outputId": "8f0033c8-2dc4-430c-dcb1-97f6192ce229"
      },
      "source": [
        "# 모델 성능 평가\n",
        "\n",
        "model.evaluate({'inputs': x_valid_in}, {'digit_dense': y_valid, 'odd_dense': y_valid_odd})"
      ],
      "execution_count": 43,
      "outputs": [
        {
          "output_type": "stream",
          "name": "stdout",
          "text": [
            "313/313 [==============================] - 2s 6ms/step - loss: 0.1976 - digit_dense_loss: 0.0676 - odd_dense_loss: 0.2600 - digit_dense_accuracy: 0.9814 - odd_dense_accuracy: 0.8970\n"
          ]
        },
        {
          "output_type": "execute_result",
          "data": {
            "text/plain": [
              "[0.19760054349899292,\n",
              " 0.0675768256187439,\n",
              " 0.2600476145744324,\n",
              " 0.9814000129699707,\n",
              " 0.8970000147819519]"
            ]
          },
          "metadata": {},
          "execution_count": 43
        }
      ],
      "id": "b0hTwdX9Leuq"
    },
    {
      "cell_type": "code",
      "metadata": {
        "colab": {
          "base_uri": "https://localhost:8080/",
          "height": 422
        },
        "id": "SPJmMaOdQE12",
        "outputId": "0db725a5-f577-432f-9d00-353fdcf3e7d9"
      },
      "source": [
        "# 샘플 이미지 출력\n",
        "\n",
        "import matplotlib.pylab as plt\n",
        "\n",
        "def plot_image(data, idx):\n",
        "    plt.figure(figsize=(5, 5))\n",
        "    plt.imshow(data[idx])\n",
        "    plt.axis(\"off\")\n",
        "    plt.show()\n",
        "\n",
        "plot_image(x_valid, 0)"
      ],
      "execution_count": 44,
      "outputs": [
        {
          "output_type": "display_data",
          "data": {
            "text/plain": [
              "<Figure size 500x500 with 1 Axes>"
            ],
            "image/png": "[encoded data removed]"
          },
          "metadata": {}
        }
      ],
      "id": "SPJmMaOdQE12"
    },
    {
      "cell_type": "code",
      "metadata": {
        "colab": {
          "base_uri": "https://localhost:8080/"
        },
        "id": "UrdHDKNMQK81",
        "outputId": "42ef539b-cbe8-4757-89d8-70269c89d65d"
      },
      "source": [
        "# 검증 데이터셋의 2개 분류 문제에 대한 예측 확률\n",
        "\n",
        "digit_preds, odd_preds = model.predict(x_valid_in)\n",
        "print(digit_preds[0]) # 10개 분류 레이블에 대한 확률\n",
        "print(odd_preds[0]) # 홀짝 분류 레이블에 대한 확률"
      ],
      "execution_count": 45,
      "outputs": [
        {
          "output_type": "stream",
          "name": "stdout",
          "text": [
            "313/313 [==============================] - 2s 6ms/step\n",
            "[5.8699036e-13 3.6343958e-10 1.5418868e-08 2.9548139e-06 3.3624175e-12\n",
            " 1.2426071e-11 4.6759553e-19 9.9999696e-01 4.0615361e-10 5.7931391e-08]\n",
            "[0.99959165]\n"
          ]
        }
      ],
      "id": "UrdHDKNMQK81"
    },
    {
      "cell_type": "markdown",
      "source": [
        "**예측 확률 -> 실제 정답 레이블**"
      ],
      "metadata": {
        "id": "5u-x-8NexRle"
      },
      "id": "5u-x-8NexRle"
    },
    {
      "cell_type": "code",
      "metadata": {
        "colab": {
          "base_uri": "https://localhost:8080/"
        },
        "id": "_7k6zdsPQLFl",
        "outputId": "15510a58-5b63-4d5b-a001-0b5162b50c57"
      },
      "source": [
        "digit_labels = np.argmax(digit_preds, axis=-1)\n",
        "digit_labels[0:10]"
      ],
      "execution_count": 46,
      "outputs": [
        {
          "output_type": "execute_result",
          "data": {
            "text/plain": [
              "array([7, 2, 1, 0, 4, 1, 4, 9, 5, 9])"
            ]
          },
          "metadata": {},
          "execution_count": 46
        }
      ],
      "id": "_7k6zdsPQLFl"
    },
    {
      "cell_type": "code",
      "metadata": {
        "colab": {
          "base_uri": "https://localhost:8080/"
        },
        "id": "y_QuvgblLeyK",
        "outputId": "139c6c44-c497-4b45-e5a3-b5612fa3b264"
      },
      "source": [
        "odd_labels = (odd_preds > 0.5).astype(np.int).reshape(1, -1)[0]\n",
        "odd_labels[0:10]"
      ],
      "execution_count": 47,
      "outputs": [
        {
          "output_type": "stream",
          "name": "stderr",
          "text": [
            "<ipython-input-47-cb61980817f6>:1: DeprecationWarning: `np.int` is a deprecated alias for the builtin `int`. To silence this warning, use `int` by itself. Doing this will not modify any behavior and is safe. When replacing `np.int`, you may wish to use e.g. `np.int64` or `np.int32` to specify the precision. If you wish to review your current use, check the release note link for additional information.\n",
            "Deprecated in NumPy 1.20; for more details and guidance: https://numpy.org/devdocs/release/1.20.0-notes.html#deprecations\n",
            "  odd_labels = (odd_preds > 0.5).astype(np.int).reshape(1, -1)[0]\n"
          ]
        },
        {
          "output_type": "execute_result",
          "data": {
            "text/plain": [
              "array([1, 0, 1, 0, 0, 1, 0, 1, 0, 1])"
            ]
          },
          "metadata": {},
          "execution_count": 47
        }
      ],
      "id": "y_QuvgblLeyK"
    },
    {
      "cell_type": "markdown",
      "source": [
        "정확하게 분류되고 있음을 확인할 수 있다."
      ],
      "metadata": {
        "id": "TjzEDF_UxalN"
      },
      "id": "TjzEDF_UxalN"
    },
    {
      "cell_type": "markdown",
      "metadata": {
        "id": "AEajYDRxfeCK"
      },
      "source": [
        "## **3-4. 전이 학습(Transfer Learning)**"
      ],
      "id": "AEajYDRxfeCK"
    },
    {
      "cell_type": "code",
      "metadata": {
        "colab": {
          "base_uri": "https://localhost:8080/"
        },
        "id": "g36JU8nNfckf",
        "outputId": "d0ba507c-a252-4bf3-ded7-cc7d383fca48"
      },
      "source": [
        "# 앞의 모델에서 flatten_layer 출력을 추출 -> base model\n",
        "base_model_output = model.get_layer('flatten_layer').output\n",
        "\n",
        "# 앞의 출력을 출력으로 하는 모델 정의\n",
        "base_model = tf.keras.models.Model(inputs = model.input, outputs = base_model_output, name='base')\n",
        "base_model.summary()"
      ],
      "execution_count": 48,
      "outputs": [
        {
          "output_type": "stream",
          "name": "stdout",
          "text": [
            "Model: \"base\"\n",
            "_________________________________________________________________\n",
            " Layer (type)                Output Shape              Param #   \n",
            "=================================================================\n",
            " inputs (InputLayer)         [(None, 28, 28, 1)]       0         \n",
            "                                                                 \n",
            " conv2d_layer (Conv2D)       (None, 26, 26, 32)        320       \n",
            "                                                                 \n",
            " maxpool_layer (MaxPooling2  (None, 13, 13, 32)        0         \n",
            " D)                                                              \n",
            "                                                                 \n",
            " flatten_layer (Flatten)     (None, 5408)              0         \n",
            "                                                                 \n",
            "=================================================================\n",
            "Total params: 320 (1.25 KB)\n",
            "Trainable params: 320 (1.25 KB)\n",
            "Non-trainable params: 0 (0.00 Byte)\n",
            "_________________________________________________________________\n"
          ]
        }
      ],
      "id": "g36JU8nNfckf"
    },
    {
      "cell_type": "code",
      "metadata": {
        "colab": {
          "base_uri": "https://localhost:8080/",
          "height": 422
        },
        "id": "geiZH9abvX_n",
        "outputId": "ea2f37be-4bf8-4b08-9f04-71eaa1b64b8e"
      },
      "source": [
        "plot_model(base_model, show_shapes=True, show_layer_names=True, to_file='base_model.png')"
      ],
      "execution_count": 49,
      "outputs": [
        {
          "output_type": "execute_result",
          "data": {
            "image/png": "[encoded data removed]",
            "text/plain": [
              "<IPython.core.display.Image object>"
            ]
          },
          "metadata": {},
          "execution_count": 49
        }
      ],
      "id": "geiZH9abvX_n"
    },
    {
      "cell_type": "code",
      "metadata": {
        "colab": {
          "base_uri": "https://localhost:8080/"
        },
        "id": "xikYXJTghDyN",
        "outputId": "eeca4142-0a1f-4bd8-d2cb-8ca202d489d1"
      },
      "source": [
        "# Sequential API 적용\n",
        "\n",
        "digit_model = tf.keras.Sequential([\n",
        "                                   base_model,\n",
        "                                   tf.keras.layers.Dense(10, activation='softmax'),\n",
        "                                   ])\n",
        "digit_model.summary()"
      ],
      "execution_count": 50,
      "outputs": [
        {
          "output_type": "stream",
          "name": "stdout",
          "text": [
            "Model: \"sequential_1\"\n",
            "_________________________________________________________________\n",
            " Layer (type)                Output Shape              Param #   \n",
            "=================================================================\n",
            " base (Functional)           (None, 5408)              320       \n",
            "                                                                 \n",
            " dense_2 (Dense)             (None, 10)                54090     \n",
            "                                                                 \n",
            "=================================================================\n",
            "Total params: 54410 (212.54 KB)\n",
            "Trainable params: 54410 (212.54 KB)\n",
            "Non-trainable params: 0 (0.00 Byte)\n",
            "_________________________________________________________________\n"
          ]
        }
      ],
      "id": "xikYXJTghDyN"
    },
    {
      "cell_type": "code",
      "metadata": {
        "colab": {
          "base_uri": "https://localhost:8080/",
          "height": 312
        },
        "id": "DrWkNwLivVxa",
        "outputId": "a4051a0b-c3ad-4f41-9aad-cebc86236a1c"
      },
      "source": [
        "plot_model(digit_model, show_shapes=True, show_layer_names=True, to_file='digit_model.png')"
      ],
      "execution_count": 51,
      "outputs": [
        {
          "output_type": "execute_result",
          "data": {
            "image/png": "[encoded data removed]",
            "text/plain": [
              "<IPython.core.display.Image object>"
            ]
          },
          "metadata": {},
          "execution_count": 51
        }
      ],
      "id": "DrWkNwLivVxa"
    },
    {
      "cell_type": "code",
      "metadata": {
        "colab": {
          "base_uri": "https://localhost:8080/"
        },
        "id": "LYe5xbr2vgGc",
        "outputId": "222f6f89-0021-428e-d306-99548329e4e4"
      },
      "source": [
        "# 모델 컴파일\n",
        "digit_model.compile(optimizer='adam', loss='sparse_categorical_crossentropy', metrics=['accuracy'])\n",
        "\n",
        "# 모델 훈련\n",
        "history = digit_model.fit(x_train_in, y_train,\n",
        "                    validation_data=(x_valid_in, y_valid),\n",
        "                    epochs=10)"
      ],
      "execution_count": 52,
      "outputs": [
        {
          "output_type": "stream",
          "name": "stdout",
          "text": [
            "Epoch 1/10\n",
            "1875/1875 [==============================] - 29s 15ms/step - loss: 0.1306 - accuracy: 0.9641 - val_loss: 0.0695 - val_accuracy: 0.9781\n",
            "Epoch 2/10\n",
            "1875/1875 [==============================] - 29s 15ms/step - loss: 0.0587 - accuracy: 0.9825 - val_loss: 0.0546 - val_accuracy: 0.9821\n",
            "Epoch 3/10\n",
            "1875/1875 [==============================] - 27s 15ms/step - loss: 0.0448 - accuracy: 0.9862 - val_loss: 0.0511 - val_accuracy: 0.9839\n",
            "Epoch 4/10\n",
            "1875/1875 [==============================] - 28s 15ms/step - loss: 0.0361 - accuracy: 0.9889 - val_loss: 0.0484 - val_accuracy: 0.9849\n",
            "Epoch 5/10\n",
            "1875/1875 [==============================] - 29s 15ms/step - loss: 0.0291 - accuracy: 0.9909 - val_loss: 0.0578 - val_accuracy: 0.9822\n",
            "Epoch 6/10\n",
            "1875/1875 [==============================] - 29s 15ms/step - loss: 0.0247 - accuracy: 0.9927 - val_loss: 0.0560 - val_accuracy: 0.9836\n",
            "Epoch 7/10\n",
            "1875/1875 [==============================] - 27s 15ms/step - loss: 0.0203 - accuracy: 0.9938 - val_loss: 0.0592 - val_accuracy: 0.9831\n",
            "Epoch 8/10\n",
            "1875/1875 [==============================] - 28s 15ms/step - loss: 0.0170 - accuracy: 0.9947 - val_loss: 0.0627 - val_accuracy: 0.9827\n",
            "Epoch 9/10\n",
            "1875/1875 [==============================] - 27s 15ms/step - loss: 0.0148 - accuracy: 0.9958 - val_loss: 0.0553 - val_accuracy: 0.9837\n",
            "Epoch 10/10\n",
            "1875/1875 [==============================] - 28s 15ms/step - loss: 0.0121 - accuracy: 0.9965 - val_loss: 0.0591 - val_accuracy: 0.9837\n"
          ]
        }
      ],
      "id": "LYe5xbr2vgGc"
    },
    {
      "cell_type": "markdown",
      "metadata": {
        "id": "gOlc2jm2wi_J"
      },
      "source": [
        "- 모델 학습 결과를 보면, 에포크 1부터 정확도가 매우 높다.\n",
        "  - 기존 모델의 가중치를 가지고 모델 학습이 시작되었기 때문.."
      ],
      "id": "gOlc2jm2wi_J"
    },
    {
      "cell_type": "code",
      "metadata": {
        "colab": {
          "base_uri": "https://localhost:8080/"
        },
        "id": "wypQpv8Wv4i7",
        "outputId": "aaec5aa7-9603-4dc2-c516-3684f3df0a47"
      },
      "source": [
        "## 베이스 모델의 가중치를 고정 (Freeze Model)\n",
        "\n",
        "base_model_frozen = tf.keras.models.Model(inputs=model.input, outputs=base_model_output, name='base_frozen')\n",
        "base_model_frozen.trainable = False\n",
        "base_model_frozen.summary()"
      ],
      "execution_count": 53,
      "outputs": [
        {
          "output_type": "stream",
          "name": "stdout",
          "text": [
            "Model: \"base_frozen\"\n",
            "_________________________________________________________________\n",
            " Layer (type)                Output Shape              Param #   \n",
            "=================================================================\n",
            " inputs (InputLayer)         [(None, 28, 28, 1)]       0         \n",
            "                                                                 \n",
            " conv2d_layer (Conv2D)       (None, 26, 26, 32)        320       \n",
            "                                                                 \n",
            " maxpool_layer (MaxPooling2  (None, 13, 13, 32)        0         \n",
            " D)                                                              \n",
            "                                                                 \n",
            " flatten_layer (Flatten)     (None, 5408)              0         \n",
            "                                                                 \n",
            "=================================================================\n",
            "Total params: 320 (1.25 KB)\n",
            "Trainable params: 0 (0.00 Byte)\n",
            "Non-trainable params: 320 (1.25 KB)\n",
            "_________________________________________________________________\n"
          ]
        }
      ],
      "id": "wypQpv8Wv4i7"
    },
    {
      "cell_type": "markdown",
      "source": [
        "- 훈련 가능한 파라미터의 개수가 0이 된다."
      ],
      "metadata": {
        "id": "kcezHw9a0QLh"
      },
      "id": "kcezHw9a0QLh"
    },
    {
      "cell_type": "code",
      "metadata": {
        "colab": {
          "base_uri": "https://localhost:8080/"
        },
        "id": "a93H0lFXxnsX",
        "outputId": "de6323e7-f729-4d66-d3f7-d7bce915d7f2"
      },
      "source": [
        "# Functional API 적용\n",
        "\n",
        "dense_output = tf.keras.layers.Dense(10, activation='softmax')(base_model_frozen.output)\n",
        "digit_model_frozen = tf.keras.models.Model(inputs=base_model_frozen.input, outputs=dense_output)\n",
        "digit_model_frozen.summary()"
      ],
      "execution_count": 54,
      "outputs": [
        {
          "output_type": "stream",
          "name": "stdout",
          "text": [
            "Model: \"model_3\"\n",
            "_________________________________________________________________\n",
            " Layer (type)                Output Shape              Param #   \n",
            "=================================================================\n",
            " inputs (InputLayer)         [(None, 28, 28, 1)]       0         \n",
            "                                                                 \n",
            " conv2d_layer (Conv2D)       (None, 26, 26, 32)        320       \n",
            "                                                                 \n",
            " maxpool_layer (MaxPooling2  (None, 13, 13, 32)        0         \n",
            " D)                                                              \n",
            "                                                                 \n",
            " flatten_layer (Flatten)     (None, 5408)              0         \n",
            "                                                                 \n",
            " dense_3 (Dense)             (None, 10)                54090     \n",
            "                                                                 \n",
            "=================================================================\n",
            "Total params: 54410 (212.54 KB)\n",
            "Trainable params: 54090 (211.29 KB)\n",
            "Non-trainable params: 320 (1.25 KB)\n",
            "_________________________________________________________________\n"
          ]
        }
      ],
      "id": "a93H0lFXxnsX"
    },
    {
      "cell_type": "code",
      "metadata": {
        "colab": {
          "base_uri": "https://localhost:8080/"
        },
        "id": "igEFQxYLym-b",
        "outputId": "f04c11be-03aa-4031-9f66-0030b8501f73"
      },
      "source": [
        "# 모델 컴파일\n",
        "digit_model_frozen.compile(optimizer='adam', loss='sparse_categorical_crossentropy', metrics=['accuracy'])\n",
        "\n",
        "# 모델 훈련\n",
        "history = digit_model_frozen.fit(x_train_in, y_train,\n",
        "                    validation_data=(x_valid_in, y_valid),\n",
        "                    epochs=10)"
      ],
      "execution_count": 55,
      "outputs": [
        {
          "output_type": "stream",
          "name": "stdout",
          "text": [
            "Epoch 1/10\n",
            "1875/1875 [==============================] - 16s 8ms/step - loss: 0.1158 - accuracy: 0.9683 - val_loss: 0.0562 - val_accuracy: 0.9829\n",
            "Epoch 2/10\n",
            "1875/1875 [==============================] - 14s 8ms/step - loss: 0.0493 - accuracy: 0.9854 - val_loss: 0.0491 - val_accuracy: 0.9833\n",
            "Epoch 3/10\n",
            "1875/1875 [==============================] - 15s 8ms/step - loss: 0.0354 - accuracy: 0.9896 - val_loss: 0.0454 - val_accuracy: 0.9853\n",
            "Epoch 4/10\n",
            "1875/1875 [==============================] - 15s 8ms/step - loss: 0.0271 - accuracy: 0.9916 - val_loss: 0.0528 - val_accuracy: 0.9840\n",
            "Epoch 5/10\n",
            "1875/1875 [==============================] - 15s 8ms/step - loss: 0.0224 - accuracy: 0.9929 - val_loss: 0.0509 - val_accuracy: 0.9833\n",
            "Epoch 6/10\n",
            "1875/1875 [==============================] - 15s 8ms/step - loss: 0.0182 - accuracy: 0.9945 - val_loss: 0.0505 - val_accuracy: 0.9848\n",
            "Epoch 7/10\n",
            "1875/1875 [==============================] - 14s 8ms/step - loss: 0.0146 - accuracy: 0.9958 - val_loss: 0.0609 - val_accuracy: 0.9833\n",
            "Epoch 8/10\n",
            "1875/1875 [==============================] - 14s 8ms/step - loss: 0.0125 - accuracy: 0.9963 - val_loss: 0.0594 - val_accuracy: 0.9831\n",
            "Epoch 9/10\n",
            "1875/1875 [==============================] - 15s 8ms/step - loss: 0.0104 - accuracy: 0.9971 - val_loss: 0.0568 - val_accuracy: 0.9842\n",
            "Epoch 10/10\n",
            "1875/1875 [==============================] - 14s 8ms/step - loss: 0.0093 - accuracy: 0.9973 - val_loss: 0.0614 - val_accuracy: 0.9830\n"
          ]
        }
      ],
      "id": "igEFQxYLym-b"
    },
    {
      "cell_type": "code",
      "metadata": {
        "colab": {
          "base_uri": "https://localhost:8080/"
        },
        "id": "V22_Ww9dyvjm",
        "outputId": "2a75fd6c-2801-4007-9ef3-b5cb3a19d0f5"
      },
      "source": [
        "## 베이스 모델의 Conv2D 레이어의 가중치만 고정 (Freeze Layer)\n",
        "\n",
        "base_model_frozen2 = tf.keras.models.Model(inputs = model.input, outputs = base_model_output, name = 'base_frozen2')\n",
        "base_model_frozen2.get_layer('conv2d_layer').trainable = False\n",
        "base_model_frozen2.summary()"
      ],
      "execution_count": 56,
      "outputs": [
        {
          "output_type": "stream",
          "name": "stdout",
          "text": [
            "Model: \"base_frozen2\"\n",
            "_________________________________________________________________\n",
            " Layer (type)                Output Shape              Param #   \n",
            "=================================================================\n",
            " inputs (InputLayer)         [(None, 28, 28, 1)]       0         \n",
            "                                                                 \n",
            " conv2d_layer (Conv2D)       (None, 26, 26, 32)        320       \n",
            "                                                                 \n",
            " maxpool_layer (MaxPooling2  (None, 13, 13, 32)        0         \n",
            " D)                                                              \n",
            "                                                                 \n",
            " flatten_layer (Flatten)     (None, 5408)              0         \n",
            "                                                                 \n",
            "=================================================================\n",
            "Total params: 320 (1.25 KB)\n",
            "Trainable params: 0 (0.00 Byte)\n",
            "Non-trainable params: 320 (1.25 KB)\n",
            "_________________________________________________________________\n"
          ]
        }
      ],
      "id": "V22_Ww9dyvjm"
    },
    {
      "cell_type": "code",
      "metadata": {
        "colab": {
          "base_uri": "https://localhost:8080/"
        },
        "id": "lBG1uunOzm-z",
        "outputId": "c25830f7-1e95-4f75-9ccf-88d9a1df87b9"
      },
      "source": [
        "# Functional API 적용\n",
        "\n",
        "dense_output2 = tf.keras.layers.Dense(10, activation='softmax')(base_model_frozen2.output)\n",
        "digit_model_frozen2 = tf.keras.models.Model(inputs=base_model_frozen2.input, outputs=dense_output2)\n",
        "digit_model_frozen2.summary()"
      ],
      "execution_count": 57,
      "outputs": [
        {
          "output_type": "stream",
          "name": "stdout",
          "text": [
            "Model: \"model_4\"\n",
            "_________________________________________________________________\n",
            " Layer (type)                Output Shape              Param #   \n",
            "=================================================================\n",
            " inputs (InputLayer)         [(None, 28, 28, 1)]       0         \n",
            "                                                                 \n",
            " conv2d_layer (Conv2D)       (None, 26, 26, 32)        320       \n",
            "                                                                 \n",
            " maxpool_layer (MaxPooling2  (None, 13, 13, 32)        0         \n",
            " D)                                                              \n",
            "                                                                 \n",
            " flatten_layer (Flatten)     (None, 5408)              0         \n",
            "                                                                 \n",
            " dense_4 (Dense)             (None, 10)                54090     \n",
            "                                                                 \n",
            "=================================================================\n",
            "Total params: 54410 (212.54 KB)\n",
            "Trainable params: 54090 (211.29 KB)\n",
            "Non-trainable params: 320 (1.25 KB)\n",
            "_________________________________________________________________\n"
          ]
        }
      ],
      "id": "lBG1uunOzm-z"
    },
    {
      "cell_type": "code",
      "metadata": {
        "colab": {
          "base_uri": "https://localhost:8080/"
        },
        "id": "Vd8i-pYjz0Yz",
        "outputId": "5b7b4728-fcbe-4f1a-873b-7e2d854f8818"
      },
      "source": [
        "# 모델 컴파일\n",
        "digit_model_frozen2.compile(optimizer='adam', loss='sparse_categorical_crossentropy', metrics=['accuracy'])\n",
        "\n",
        "# 모델 훈련\n",
        "history = digit_model_frozen2.fit(x_train_in, y_train,\n",
        "                    validation_data=(x_valid_in, y_valid),\n",
        "                    epochs=10)"
      ],
      "execution_count": 58,
      "outputs": [
        {
          "output_type": "stream",
          "name": "stdout",
          "text": [
            "Epoch 1/10\n",
            "1875/1875 [==============================] - 16s 8ms/step - loss: 0.1148 - accuracy: 0.9689 - val_loss: 0.0558 - val_accuracy: 0.9826\n",
            "Epoch 2/10\n",
            "1875/1875 [==============================] - 14s 8ms/step - loss: 0.0486 - accuracy: 0.9854 - val_loss: 0.0490 - val_accuracy: 0.9838\n",
            "Epoch 3/10\n",
            "1875/1875 [==============================] - 15s 8ms/step - loss: 0.0356 - accuracy: 0.9896 - val_loss: 0.0535 - val_accuracy: 0.9831\n",
            "Epoch 4/10\n",
            "1875/1875 [==============================] - 15s 8ms/step - loss: 0.0281 - accuracy: 0.9915 - val_loss: 0.0503 - val_accuracy: 0.9843\n",
            "Epoch 5/10\n",
            "1875/1875 [==============================] - 15s 8ms/step - loss: 0.0219 - accuracy: 0.9934 - val_loss: 0.0476 - val_accuracy: 0.9849\n",
            "Epoch 6/10\n",
            "1875/1875 [==============================] - 15s 8ms/step - loss: 0.0177 - accuracy: 0.9946 - val_loss: 0.0550 - val_accuracy: 0.9831\n",
            "Epoch 7/10\n",
            "1875/1875 [==============================] - 15s 8ms/step - loss: 0.0144 - accuracy: 0.9959 - val_loss: 0.0513 - val_accuracy: 0.9839\n",
            "Epoch 8/10\n",
            "1875/1875 [==============================] - 16s 8ms/step - loss: 0.0118 - accuracy: 0.9970 - val_loss: 0.0593 - val_accuracy: 0.9833\n",
            "Epoch 9/10\n",
            "1875/1875 [==============================] - 16s 8ms/step - loss: 0.0104 - accuracy: 0.9968 - val_loss: 0.0570 - val_accuracy: 0.9846\n",
            "Epoch 10/10\n",
            "1875/1875 [==============================] - 15s 8ms/step - loss: 0.0086 - accuracy: 0.9978 - val_loss: 0.0600 - val_accuracy: 0.9841\n"
          ]
        }
      ],
      "id": "Vd8i-pYjz0Yz"
    },
    {
      "cell_type": "code",
      "source": [],
      "metadata": {
        "id": "cmK6H5u91dfX"
      },
      "id": "cmK6H5u91dfX",
      "execution_count": null,
      "outputs": []
    }
  ]
}