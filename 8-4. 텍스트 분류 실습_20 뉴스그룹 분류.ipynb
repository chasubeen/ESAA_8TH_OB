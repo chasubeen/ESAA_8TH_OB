{
  "cells": [
    {
      "cell_type": "markdown",
      "metadata": {
        "id": "view-in-github",
        "colab_type": "text"
      },
      "source": [
        "<a href=\"https://colab.research.google.com/github/chasubeen/ESAA_8th_OB/blob/Week_5/8-4.%20%ED%85%8D%EC%8A%A4%ED%8A%B8%20%EB%B6%84%EB%A5%98%20%EC%8B%A4%EC%8A%B5_20%20%EB%89%B4%EC%8A%A4%EA%B7%B8%EB%A3%B9%20%EB%B6%84%EB%A5%98.ipynb\" target=\"_parent\"><img src=\"https://colab.research.google.com/assets/colab-badge.svg\" alt=\"Open In Colab\"/></a>"
      ]
    },
    {
      "cell_type": "markdown",
      "metadata": {
        "id": "p0AYt2lxEwK6"
      },
      "source": [
        "# **1. 텍스트 정규화**"
      ]
    },
    {
      "cell_type": "code",
      "execution_count": 1,
      "metadata": {
        "id": "6iUkz6iWEwK-"
      },
      "outputs": [],
      "source": [
        "### 데이터 준비\n",
        "\n",
        "from sklearn.datasets import fetch_20newsgroups\n",
        "\n",
        "news_data = fetch_20newsgroups(subset='all',random_state=156)"
      ]
    },
    {
      "cell_type": "code",
      "execution_count": 2,
      "metadata": {
        "colab": {
          "base_uri": "https://localhost:8080/"
        },
        "id": "SDdMSEtHEwLA",
        "outputId": "c5ed878a-f2b0-4af7-c753-eff59ba3594c"
      },
      "outputs": [
        {
          "output_type": "stream",
          "name": "stdout",
          "text": [
            "dict_keys(['data', 'filenames', 'target_names', 'target', 'DESCR'])\n"
          ]
        }
      ],
      "source": [
        "print(news_data.keys())"
      ]
    },
    {
      "cell_type": "code",
      "execution_count": 3,
      "metadata": {
        "colab": {
          "base_uri": "https://localhost:8080/"
        },
        "id": "_Hlp99SYEwLB",
        "outputId": "55cc8b37-032a-46dc-d2db-f580bf9abc9e"
      },
      "outputs": [
        {
          "output_type": "stream",
          "name": "stdout",
          "text": [
            "target 클래스의 값과 분포도 \n",
            " 0     799\n",
            "1     973\n",
            "2     985\n",
            "3     982\n",
            "4     963\n",
            "5     988\n",
            "6     975\n",
            "7     990\n",
            "8     996\n",
            "9     994\n",
            "10    999\n",
            "11    991\n",
            "12    984\n",
            "13    990\n",
            "14    987\n",
            "15    997\n",
            "16    910\n",
            "17    940\n",
            "18    775\n",
            "19    628\n",
            "dtype: int64\n",
            "target 클래스의 이름들 \n",
            " ['alt.atheism', 'comp.graphics', 'comp.os.ms-windows.misc', 'comp.sys.ibm.pc.hardware', 'comp.sys.mac.hardware', 'comp.windows.x', 'misc.forsale', 'rec.autos', 'rec.motorcycles', 'rec.sport.baseball', 'rec.sport.hockey', 'sci.crypt', 'sci.electronics', 'sci.med', 'sci.space', 'soc.religion.christian', 'talk.politics.guns', 'talk.politics.mideast', 'talk.politics.misc', 'talk.religion.misc']\n"
          ]
        }
      ],
      "source": [
        "### Target 클래스 구성 확인\n",
        "\n",
        "import pandas as pd\n",
        "\n",
        "print('target 클래스의 값과 분포도 \\n',pd.Series(news_data.target).value_counts().sort_index())\n",
        "print('target 클래스의 이름들 \\n',news_data.target_names)"
      ]
    },
    {
      "cell_type": "code",
      "execution_count": 4,
      "metadata": {
        "colab": {
          "base_uri": "https://localhost:8080/"
        },
        "id": "02K7s29SEwLC",
        "outputId": "52a66313-5e75-4de1-c4e6-95715a280a4f"
      },
      "outputs": [
        {
          "output_type": "stream",
          "name": "stdout",
          "text": [
            "From: egreen@east.sun.com (Ed Green - Pixel Cruncher)\n",
            "Subject: Re: Observation re: helmets\n",
            "Organization: Sun Microsystems, RTP, NC\n",
            "Lines: 21\n",
            "Distribution: world\n",
            "Reply-To: egreen@east.sun.com\n",
            "NNTP-Posting-Host: laser.east.sun.com\n",
            "\n",
            "In article 211353@mavenry.altcit.eskimo.com, maven@mavenry.altcit.eskimo.com (Norman Hamer) writes:\n",
            "> \n",
            "> The question for the day is re: passenger helmets, if you don't know for \n",
            ">certain who's gonna ride with you (like say you meet them at a .... church \n",
            ">meeting, yeah, that's the ticket)... What are some guidelines? Should I just \n",
            ">pick up another shoei in my size to have a backup helmet (XL), or should I \n",
            ">maybe get an inexpensive one of a smaller size to accomodate my likely \n",
            ">passenger? \n",
            "\n",
            "If your primary concern is protecting the passenger in the event of a\n",
            "crash, have him or her fitted for a helmet that is their size.  If your\n",
            "primary concern is complying with stupid helmet laws, carry a real big\n",
            "spare (you can put a big or small head in a big helmet, but not in a\n",
            "small one).\n",
            "\n",
            "---\n",
            "Ed Green, former Ninjaite |I was drinking last night with a biker,\n",
            "  Ed.Green@East.Sun.COM   |and I showed him a picture of you.  I said,\n",
            "DoD #0111  (919)460-8302  |\"Go on, get to know her, you'll like her!\"\n",
            " (The Grateful Dead) -->  |It seemed like the least I could do...\n",
            "\n",
            "\n"
          ]
        }
      ],
      "source": [
        "# 개별 데이터가 텍스트로 어떻게 구성돼 있는지 확인하기\n",
        "\n",
        "print(news_data.data[0])"
      ]
    },
    {
      "cell_type": "markdown",
      "metadata": {
        "id": "uvNUJkxvFm_G"
      },
      "source": [
        "- 뉴스그룹 기사의 내용뿐만 아니라 뉴스그룹 제목, 작성자, 소속, 이메일 등의 다양한 정보를 포함하고 있음\n",
        "  - 내용을 제외하고는 다 제거하자.\n",
        "  > 순수하게 내용만으로 분류하자."
      ]
    },
    {
      "cell_type": "code",
      "execution_count": 5,
      "metadata": {
        "colab": {
          "base_uri": "https://localhost:8080/"
        },
        "id": "qiYmAkusEwLC",
        "outputId": "c5b9a024-2581-4a35-b801-63ab30727a7b"
      },
      "outputs": [
        {
          "output_type": "stream",
          "name": "stdout",
          "text": [
            "<class 'list'>\n",
            "학습 데이터 크기 11314 , 테스트 데이터 크기 7532\n"
          ]
        }
      ],
      "source": [
        "from sklearn.datasets import fetch_20newsgroups\n",
        "\n",
        "# subset = 'train'으로 학습용(Train) 데이터만 추출\n",
        "# remove=('headers', 'footers', 'quotes')로 내용만 추출\n",
        "train_news= fetch_20newsgroups(subset = 'train',\n",
        "                               remove = ('headers', 'footers', 'quotes'), random_state=156)\n",
        "X_train = train_news.data\n",
        "y_train = train_news.target\n",
        "print(type(X_train))\n",
        "\n",
        "# subset = 'test'으로 테스트(Test) 데이터만 추출\n",
        "# remove=('headers', 'footers', 'quotes')로 내용만 추출\n",
        "test_news= fetch_20newsgroups(subset = 'test',\n",
        "                              remove = ('headers', 'footers','quotes'),random_state=156)\n",
        "X_test = test_news.data\n",
        "y_test = test_news.target\n",
        "print('학습 데이터 크기 {0} , 테스트 데이터 크기 {1}'.format(len(train_news.data) , len(test_news.data)))\n"
      ]
    },
    {
      "cell_type": "markdown",
      "metadata": {
        "id": "RY-6hiHeEwLD"
      },
      "source": [
        "# **피처 벡터화 변환과 머신러닝 모델 학습/예측/평가**"
      ]
    },
    {
      "cell_type": "markdown",
      "metadata": {
        "id": "X5kjMtYjxlTI"
      },
      "source": [
        "## **카운트 기반 벡터화**"
      ]
    },
    {
      "cell_type": "code",
      "execution_count": 6,
      "metadata": {
        "colab": {
          "base_uri": "https://localhost:8080/"
        },
        "id": "8orSzwqoEwLD",
        "outputId": "3a56d447-a079-4d2c-f0fa-e7f58423afd5"
      },
      "outputs": [
        {
          "output_type": "stream",
          "name": "stdout",
          "text": [
            "학습 데이터 Text의 CountVectorizer Shape: (11314, 101631)\n"
          ]
        }
      ],
      "source": [
        "from sklearn.feature_extraction.text import CountVectorizer\n",
        "\n",
        "# Count Vectorization으로 feature extraction 변환 수행\n",
        "cnt_vect = CountVectorizer()\n",
        "cnt_vect.fit(X_train)\n",
        "X_train_cnt_vect = cnt_vect.transform(X_train)\n",
        "\n",
        "# 학습 데이터로 fit( )된 CountVectorizer를 이용하여 테스트 데이터 feature extraction 변환 수행\n",
        "X_test_cnt_vect = cnt_vect.transform(X_test)\n",
        "\n",
        "print('학습 데이터 Text의 CountVectorizer Shape:',X_train_cnt_vect.shape)"
      ]
    },
    {
      "cell_type": "code",
      "execution_count": 7,
      "metadata": {
        "colab": {
          "base_uri": "https://localhost:8080/"
        },
        "id": "u86jkejmEwLE",
        "outputId": "d91ac814-589e-43d8-c51c-a589f57c0de7"
      },
      "outputs": [
        {
          "output_type": "stream",
          "name": "stdout",
          "text": [
            "CountVectorized Logistic Regression 의 예측 정확도는 0.617\n"
          ]
        },
        {
          "output_type": "stream",
          "name": "stderr",
          "text": [
            "/usr/local/lib/python3.10/dist-packages/sklearn/svm/_base.py:1244: ConvergenceWarning: Liblinear failed to converge, increase the number of iterations.\n",
            "  warnings.warn(\n"
          ]
        }
      ],
      "source": [
        "from sklearn.linear_model import LogisticRegression\n",
        "from sklearn.metrics import accuracy_score\n",
        "\n",
        "# LogisticRegression을 이용하여 학습/예측/평가 수행\n",
        "lr_clf = LogisticRegression(solver = 'liblinear')\n",
        "lr_clf.fit(X_train_cnt_vect , y_train)\n",
        "pred = lr_clf.predict(X_test_cnt_vect)\n",
        "print('CountVectorized Logistic Regression 의 예측 정확도는 {0:.3f}'.format(accuracy_score(y_test,pred)))"
      ]
    },
    {
      "cell_type": "markdown",
      "metadata": {
        "id": "uhOrC_yOxrTK"
      },
      "source": [
        "## **TF-IDF 기반 벡터화**"
      ]
    },
    {
      "cell_type": "code",
      "execution_count": 8,
      "metadata": {
        "colab": {
          "base_uri": "https://localhost:8080/"
        },
        "id": "fDAtau8rEwLE",
        "outputId": "4f8d3494-d247-42fa-b10c-6211362b59d2"
      },
      "outputs": [
        {
          "output_type": "stream",
          "name": "stdout",
          "text": [
            "TF-IDF Logistic Regression 의 예측 정확도는 0.678\n"
          ]
        }
      ],
      "source": [
        "from sklearn.feature_extraction.text import TfidfVectorizer\n",
        "\n",
        "# TF-IDF Vectorization을 적용하여 학습 데이터셋과 테스트 데이터셋 변환\n",
        "tfidf_vect = TfidfVectorizer()\n",
        "tfidf_vect.fit(X_train)\n",
        "X_train_tfidf_vect = tfidf_vect.transform(X_train)\n",
        "X_test_tfidf_vect = tfidf_vect.transform(X_test)\n",
        "\n",
        "# LogisticRegression을 이용하여 학습/예측/평가 수행\n",
        "lr_clf = LogisticRegression(solver = 'liblinear')\n",
        "lr_clf.fit(X_train_tfidf_vect , y_train)\n",
        "pred = lr_clf.predict(X_test_tfidf_vect)\n",
        "print('TF-IDF Logistic Regression 의 예측 정확도는 {0:.3f}'.format(accuracy_score(y_test ,pred)))"
      ]
    },
    {
      "cell_type": "markdown",
      "metadata": {
        "id": "KQXIrEYrx9XD"
      },
      "source": [
        "- 단순 카운트 기반 벡터화와 비교했을 때 훨씬 높은 예측 정확도를 제공함\n",
        "- 일반적으로 문서 내에서 텍스트가 많고 많은 문서를 가지는 텍스트 분석에서는 카운트 벡터화에 비해 TF-IDF 벡터화가 더 좋은 예측 결과를 도출함"
      ]
    },
    {
      "cell_type": "code",
      "execution_count": 9,
      "metadata": {
        "colab": {
          "base_uri": "https://localhost:8080/"
        },
        "id": "6ivgNFB8EwLE",
        "outputId": "4aa7c49e-d715-4817-8ed1-f849995a9fc8"
      },
      "outputs": [
        {
          "output_type": "stream",
          "name": "stdout",
          "text": [
            "TF-IDF Vectorized Logistic Regression 의 예측 정확도는 0.690\n"
          ]
        }
      ],
      "source": [
        "## TF-IDF 벡터화 객체의 하이퍼 파라미터를 튜닝 -> 성능 개선\n",
        "# stop words 필터링을 추가하고 ngram을 기본(1,1)에서 (1,2)로 변경하여 Feature Vectorization 적용\n",
        "\n",
        "tfidf_vect = TfidfVectorizer(stop_words = 'english', ngram_range = (1,2), max_df = 300)\n",
        "tfidf_vect.fit(X_train)\n",
        "X_train_tfidf_vect = tfidf_vect.transform(X_train)\n",
        "X_test_tfidf_vect = tfidf_vect.transform(X_test)\n",
        "\n",
        "lr_clf = LogisticRegression(solver = 'liblinear')\n",
        "lr_clf.fit(X_train_tfidf_vect , y_train)\n",
        "pred = lr_clf.predict(X_test_tfidf_vect)\n",
        "print('TF-IDF Vectorized Logistic Regression 의 예측 정확도는 {0:.3f}'.format(accuracy_score(y_test ,pred)))"
      ]
    },
    {
      "cell_type": "code",
      "execution_count": 10,
      "metadata": {
        "colab": {
          "base_uri": "https://localhost:8080/"
        },
        "id": "wmIMvyYfEwLF",
        "outputId": "6f3f0b62-2d54-4490-c491-0dab416251fc"
      },
      "outputs": [
        {
          "output_type": "stream",
          "name": "stdout",
          "text": [
            "Fitting 3 folds for each of 5 candidates, totalling 15 fits\n",
            "Logistic Regression best C parameter : {'C': 10}\n",
            "TF-IDF Vectorized Logistic Regression 의 예측 정확도는 0.704\n"
          ]
        }
      ],
      "source": [
        "## 분류 모델의 하이퍼 파라미터를 튜닝\n",
        "\n",
        "from sklearn.model_selection import GridSearchCV\n",
        "\n",
        "# 최적 C값 도출 튜닝 수행\n",
        "# CV는 3 Fold 셋으로 설정\n",
        "params = {'C':[0.01, 0.1, 1, 5, 10]}\n",
        "grid_cv_lr = GridSearchCV(lr_clf ,param_grid = params , cv = 3 , scoring = 'accuracy' , verbose = 1)\n",
        "grid_cv_lr.fit(X_train_tfidf_vect , y_train)\n",
        "print('Logistic Regression best C parameter :',grid_cv_lr.best_params_)\n",
        "\n",
        "# 최적 C값으로 학습된 grid_cv로 예측을 수행하고 정확도 평가\n",
        "pred = grid_cv_lr.predict(X_test_tfidf_vect)\n",
        "print('TF-IDF Vectorized Logistic Regression 의 예측 정확도는 {0:.3f}'.format(accuracy_score(y_test ,pred)))"
      ]
    },
    {
      "cell_type": "markdown",
      "metadata": {
        "id": "ezDHjuzuEwLF"
      },
      "source": [
        "# **사이킷런 파이프라인(Pipeline) 사용 및 GridSearchCV와의 결합**"
      ]
    },
    {
      "cell_type": "markdown",
      "metadata": {
        "id": "c99C0m8JzZKb"
      },
      "source": [
        "- sklearn.Pipeline 클래스 활용 시 피처 벡터화와 ML 알고리즘 학습/예측을 위한 코드 작성을 한 번에 진행 가능\n",
        "  - 데이터의 전처리와 머신러닝 학습 과정을 통일된 API 기반에서 처리할 수 있어 더 직관적인 ML 모델 코드를 생성할 수 있음\n",
        "- 또한 데용량 데이터의 피처 벡터화 결과를 별도 데이터로 저장하지 않고 스트림 기반에서 바로 머신러닝 알고리즘의 데이터로 입력 가능  \n",
        "=> 수행 시간 절약 가능"
      ]
    },
    {
      "cell_type": "code",
      "execution_count": 11,
      "metadata": {
        "colab": {
          "base_uri": "https://localhost:8080/"
        },
        "id": "mDST01THEwLG",
        "outputId": "09f086a4-b3e7-424c-9b35-3c160101cea9"
      },
      "outputs": [
        {
          "output_type": "stream",
          "name": "stdout",
          "text": [
            "Pipeline을 통한 Logistic Regression 의 예측 정확도는 0.704\n"
          ]
        }
      ],
      "source": [
        "from sklearn.pipeline import Pipeline\n",
        "\n",
        "# TfidfVectorizer 객체를 tfidf_vect 객체명으로, LogisticRegression 객체를 lr_clf 객체명으로 생성하는 Pipeline 생성\n",
        "pipeline = Pipeline([\n",
        "    ('tfidf_vect', TfidfVectorizer(stop_words = 'english', ngram_range = (1,2), max_df = 300)),\n",
        "    ('lr_clf', LogisticRegression(C = 10, solver = 'liblinear'))\n",
        "])\n",
        "\n",
        "## 별도의 TfidfVectorizer 객체의 fit_transform( )과 LogisticRegression의 fit(), predict( )가 필요 x\n",
        "# pipeline의 fit( ) 과 predict( ) 만으로 한꺼번에 Feature Vectorization과 ML 학습/예측 가능\n",
        "pipeline.fit(X_train, y_train)\n",
        "pred = pipeline.predict(X_test)\n",
        "print('Pipeline을 통한 Logistic Regression 의 예측 정확도는 {0:.3f}'.format(accuracy_score(y_test ,pred)))"
      ]
    },
    {
      "cell_type": "code",
      "execution_count": 12,
      "metadata": {
        "colab": {
          "base_uri": "https://localhost:8080/"
        },
        "id": "5lcVPeu_EwLG",
        "outputId": "20507825-014c-4fdf-95cc-807013e20a0f"
      },
      "outputs": [
        {
          "output_type": "stream",
          "name": "stdout",
          "text": [
            "Fitting 3 folds for each of 27 candidates, totalling 81 fits\n",
            "{'lr_clf__C': 10, 'tfidf_vect__max_df': 700, 'tfidf_vect__ngram_range': (1, 2)} 0.7550828826229531\n",
            "Pipeline을 통한 Logistic Regression 의 예측 정확도는 0.702\n"
          ]
        }
      ],
      "source": [
        "## Pipeline을 통해 두 객체에 대한 파라미터 튜닝을 한 번에 수행 가능\n",
        "\n",
        "from sklearn.pipeline import Pipeline\n",
        "\n",
        "pipeline = Pipeline([\n",
        "    ('tfidf_vect', TfidfVectorizer(stop_words = 'english')),\n",
        "    ('lr_clf', LogisticRegression(solver = 'liblinear'))\n",
        "])\n",
        "\n",
        "# Pipeline에 기술된 각각의 객체 변수에 언더바(_) 2개를 연달아 붙여 GridSearchCV에 사용될\n",
        "# 파라미터/하이퍼 파라미터 이름과 값을 설정\n",
        "params = { 'tfidf_vect__ngram_range': [(1,1), (1,2), (1,3)],\n",
        "           'tfidf_vect__max_df': [100, 300, 700],\n",
        "           'lr_clf__C': [1,5,10]\n",
        "}\n",
        "\n",
        "# GridSearchCV의 생성자에 Estimator가 아닌 Pipeline 객체 입력\n",
        "grid_cv_pipe = GridSearchCV(pipeline, param_grid=params, cv=3 , scoring='accuracy',verbose=1)\n",
        "grid_cv_pipe.fit(X_train , y_train)\n",
        "print(grid_cv_pipe.best_params_ , grid_cv_pipe.best_score_)\n",
        "\n",
        "pred = grid_cv_pipe.predict(X_test)\n",
        "print('Pipeline을 통한 Logistic Regression 의 예측 정확도는 {0:.3f}'.format(accuracy_score(y_test ,pred)))"
      ]
    }
  ],
  "metadata": {
    "colab": {
      "provenance": [],
      "include_colab_link": true
    },
    "kernelspec": {
      "display_name": "Python 3 (ipykernel)",
      "language": "python",
      "name": "python3"
    },
    "language_info": {
      "codemirror_mode": {
        "name": "ipython",
        "version": 3
      },
      "file_extension": ".py",
      "mimetype": "text/x-python",
      "name": "python",
      "nbconvert_exporter": "python",
      "pygments_lexer": "ipython3",
      "version": "3.7.7"
    }
  },
  "nbformat": 4,
  "nbformat_minor": 0
}