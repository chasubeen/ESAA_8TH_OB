{
  "nbformat": 4,
  "nbformat_minor": 0,
  "metadata": {
    "colab": {
      "provenance": [],
      "include_colab_link": true
    },
    "kernelspec": {
      "name": "python3",
      "display_name": "Python 3"
    },
    "language_info": {
      "name": "python"
    }
  },
  "cells": [
    {
      "cell_type": "markdown",
      "metadata": {
        "id": "view-in-github",
        "colab_type": "text"
      },
      "source": [
        "<a href=\"https://colab.research.google.com/github/chasubeen/ESAA_8th_OB/blob/Week_1/%EB%B6%84%EB%A5%98_%EC%97%B0%EC%8A%B5%EB%AC%B8%EC%A0%9C.ipynb\" target=\"_parent\"><img src=\"https://colab.research.google.com/assets/colab-badge.svg\" alt=\"Open In Colab\"/></a>"
      ]
    },
    {
      "cell_type": "markdown",
      "source": [
        "## **| 분류 연습 문제**\n",
        "___\n",
        "출처 : 핸즈온 머신러닝 Ch03 분류 연습문제 1, 2번"
      ],
      "metadata": {
        "id": "zCu72vDHGMHo"
      }
    },
    {
      "cell_type": "code",
      "source": [
        "# import data\n",
        "\n",
        "from sklearn.datasets import fetch_openml\n",
        "mnist = fetch_openml('mnist_784', version = 1, as_frame = False)"
      ],
      "metadata": {
        "id": "tBMD6RMQJcnZ",
        "colab": {
          "base_uri": "https://localhost:8080/"
        },
        "outputId": "7c0263dd-9f11-4c63-d15c-c911e0fde566"
      },
      "execution_count": 1,
      "outputs": [
        {
          "output_type": "stream",
          "name": "stderr",
          "text": [
            "/usr/local/lib/python3.10/dist-packages/sklearn/datasets/_openml.py:968: FutureWarning: The default value of `parser` will change from `'liac-arff'` to `'auto'` in 1.4. You can set `parser='auto'` to silence this warning. Therefore, an `ImportError` will be raised from 1.4 if the dataset is dense and pandas is not installed. Note that the pandas parser may return different data types. See the Notes Section in fetch_openml's API doc for details.\n",
            "  warn(\n"
          ]
        }
      ]
    },
    {
      "cell_type": "code",
      "source": [
        "X, y = mnist[\"data\"], mnist[\"target\"]"
      ],
      "metadata": {
        "id": "0acMMz8YKS7v"
      },
      "execution_count": 2,
      "outputs": []
    },
    {
      "cell_type": "code",
      "source": [
        "# 데이터 분리\n",
        "\n",
        "X_train, X_test, y_train, y_test = X[:60000], X[60000:], y[:60000], y[60000:]"
      ],
      "metadata": {
        "id": "Q0VEfK9YFdGz"
      },
      "execution_count": 20,
      "outputs": []
    },
    {
      "cell_type": "markdown",
      "source": [
        "### **1. MNIST 데이터셋으로 분류기를 만들어 테스트 세트에서 97% 정확도를 달성해보세요.**\n",
        "___\n",
        "\n",
        "1. `KNeghtborsClassifier`를 사용하는 것을 추천합니다.\n",
        "2. `weights`와 `n_neighbors` 하이퍼 파라미터로 그리드 탐색을 시도하여, 좋은 하이퍼 파라미터 값을 찾아보세요."
      ],
      "metadata": {
        "id": "j3g-_Dq9GiuT"
      }
    },
    {
      "cell_type": "code",
      "execution_count": 21,
      "metadata": {
        "id": "188lZyYEGJZ7"
      },
      "outputs": [],
      "source": [
        "# import package\n",
        "\n",
        "from sklearn.neighbors import KNeighborsClassifier\n",
        "from sklearn.model_selection import GridSearchCV"
      ]
    },
    {
      "cell_type": "code",
      "source": [
        "# 파라미터 범위 설정\n",
        "\n",
        "param_grid = {\n",
        "    'n_neighbors': [3, 5],  # 이웃의 수\n",
        "    'weights': ['uniform', 'distance']  # 가중치 설정\n",
        "}\n",
        "\n",
        "# 모델 객체 생성\n",
        "knn_clf = KNeighborsClassifier()\n",
        "\n",
        "# 교차 검증\n",
        "grid_search = GridSearchCV(knn_clf, param_grid, cv = 5, verbose = 3)\n",
        "grid_search.fit(X_train, y_train)"
      ],
      "metadata": {
        "id": "lZAQyDhMihRf",
        "colab": {
          "base_uri": "https://localhost:8080/",
          "height": 499
        },
        "outputId": "eb326f8d-c9cc-4b67-99d7-2e31862453a6"
      },
      "execution_count": 22,
      "outputs": [
        {
          "output_type": "stream",
          "name": "stdout",
          "text": [
            "Fitting 5 folds for each of 4 candidates, totalling 20 fits\n",
            "[CV 1/5] END ....n_neighbors=3, weights=uniform;, score=0.972 total time=  33.9s\n",
            "[CV 2/5] END ....n_neighbors=3, weights=uniform;, score=0.971 total time=  32.9s\n",
            "[CV 3/5] END ....n_neighbors=3, weights=uniform;, score=0.969 total time=  33.7s\n",
            "[CV 4/5] END ....n_neighbors=3, weights=uniform;, score=0.969 total time=  33.7s\n",
            "[CV 5/5] END ....n_neighbors=3, weights=uniform;, score=0.970 total time=  33.6s\n",
            "[CV 1/5] END ...n_neighbors=3, weights=distance;, score=0.972 total time=  33.7s\n",
            "[CV 2/5] END ...n_neighbors=3, weights=distance;, score=0.972 total time=  32.9s\n",
            "[CV 3/5] END ...n_neighbors=3, weights=distance;, score=0.970 total time=  33.4s\n",
            "[CV 4/5] END ...n_neighbors=3, weights=distance;, score=0.970 total time=  33.4s\n",
            "[CV 5/5] END ...n_neighbors=3, weights=distance;, score=0.971 total time=  32.5s\n",
            "[CV 1/5] END ....n_neighbors=5, weights=uniform;, score=0.970 total time=  33.6s\n",
            "[CV 2/5] END ....n_neighbors=5, weights=uniform;, score=0.970 total time=  33.7s\n",
            "[CV 3/5] END ....n_neighbors=5, weights=uniform;, score=0.969 total time=  34.5s\n",
            "[CV 4/5] END ....n_neighbors=5, weights=uniform;, score=0.968 total time=  32.7s\n",
            "[CV 5/5] END ....n_neighbors=5, weights=uniform;, score=0.969 total time=  33.6s\n",
            "[CV 1/5] END ...n_neighbors=5, weights=distance;, score=0.970 total time=  33.4s\n",
            "[CV 2/5] END ...n_neighbors=5, weights=distance;, score=0.971 total time=  33.4s\n",
            "[CV 3/5] END ...n_neighbors=5, weights=distance;, score=0.970 total time=  32.5s\n",
            "[CV 4/5] END ...n_neighbors=5, weights=distance;, score=0.969 total time=  33.3s\n",
            "[CV 5/5] END ...n_neighbors=5, weights=distance;, score=0.971 total time=  33.4s\n"
          ]
        },
        {
          "output_type": "execute_result",
          "data": {
            "text/plain": [
              "GridSearchCV(cv=5, estimator=KNeighborsClassifier(),\n",
              "             param_grid={'n_neighbors': [3, 5],\n",
              "                         'weights': ['uniform', 'distance']},\n",
              "             verbose=3)"
            ],
            "text/html": [
              "<style>#sk-container-id-2 {color: black;background-color: white;}#sk-container-id-2 pre{padding: 0;}#sk-container-id-2 div.sk-toggleable {background-color: white;}#sk-container-id-2 label.sk-toggleable__label {cursor: pointer;display: block;width: 100%;margin-bottom: 0;padding: 0.3em;box-sizing: border-box;text-align: center;}#sk-container-id-2 label.sk-toggleable__label-arrow:before {content: \"▸\";float: left;margin-right: 0.25em;color: #696969;}#sk-container-id-2 label.sk-toggleable__label-arrow:hover:before {color: black;}#sk-container-id-2 div.sk-estimator:hover label.sk-toggleable__label-arrow:before {color: black;}#sk-container-id-2 div.sk-toggleable__content {max-height: 0;max-width: 0;overflow: hidden;text-align: left;background-color: #f0f8ff;}#sk-container-id-2 div.sk-toggleable__content pre {margin: 0.2em;color: black;border-radius: 0.25em;background-color: #f0f8ff;}#sk-container-id-2 input.sk-toggleable__control:checked~div.sk-toggleable__content {max-height: 200px;max-width: 100%;overflow: auto;}#sk-container-id-2 input.sk-toggleable__control:checked~label.sk-toggleable__label-arrow:before {content: \"▾\";}#sk-container-id-2 div.sk-estimator input.sk-toggleable__control:checked~label.sk-toggleable__label {background-color: #d4ebff;}#sk-container-id-2 div.sk-label input.sk-toggleable__control:checked~label.sk-toggleable__label {background-color: #d4ebff;}#sk-container-id-2 input.sk-hidden--visually {border: 0;clip: rect(1px 1px 1px 1px);clip: rect(1px, 1px, 1px, 1px);height: 1px;margin: -1px;overflow: hidden;padding: 0;position: absolute;width: 1px;}#sk-container-id-2 div.sk-estimator {font-family: monospace;background-color: #f0f8ff;border: 1px dotted black;border-radius: 0.25em;box-sizing: border-box;margin-bottom: 0.5em;}#sk-container-id-2 div.sk-estimator:hover {background-color: #d4ebff;}#sk-container-id-2 div.sk-parallel-item::after {content: \"\";width: 100%;border-bottom: 1px solid gray;flex-grow: 1;}#sk-container-id-2 div.sk-label:hover label.sk-toggleable__label {background-color: #d4ebff;}#sk-container-id-2 div.sk-serial::before {content: \"\";position: absolute;border-left: 1px solid gray;box-sizing: border-box;top: 0;bottom: 0;left: 50%;z-index: 0;}#sk-container-id-2 div.sk-serial {display: flex;flex-direction: column;align-items: center;background-color: white;padding-right: 0.2em;padding-left: 0.2em;position: relative;}#sk-container-id-2 div.sk-item {position: relative;z-index: 1;}#sk-container-id-2 div.sk-parallel {display: flex;align-items: stretch;justify-content: center;background-color: white;position: relative;}#sk-container-id-2 div.sk-item::before, #sk-container-id-2 div.sk-parallel-item::before {content: \"\";position: absolute;border-left: 1px solid gray;box-sizing: border-box;top: 0;bottom: 0;left: 50%;z-index: -1;}#sk-container-id-2 div.sk-parallel-item {display: flex;flex-direction: column;z-index: 1;position: relative;background-color: white;}#sk-container-id-2 div.sk-parallel-item:first-child::after {align-self: flex-end;width: 50%;}#sk-container-id-2 div.sk-parallel-item:last-child::after {align-self: flex-start;width: 50%;}#sk-container-id-2 div.sk-parallel-item:only-child::after {width: 0;}#sk-container-id-2 div.sk-dashed-wrapped {border: 1px dashed gray;margin: 0 0.4em 0.5em 0.4em;box-sizing: border-box;padding-bottom: 0.4em;background-color: white;}#sk-container-id-2 div.sk-label label {font-family: monospace;font-weight: bold;display: inline-block;line-height: 1.2em;}#sk-container-id-2 div.sk-label-container {text-align: center;}#sk-container-id-2 div.sk-container {/* jupyter's `normalize.less` sets `[hidden] { display: none; }` but bootstrap.min.css set `[hidden] { display: none !important; }` so we also need the `!important` here to be able to override the default hidden behavior on the sphinx rendered scikit-learn.org. See: https://github.com/scikit-learn/scikit-learn/issues/21755 */display: inline-block !important;position: relative;}#sk-container-id-2 div.sk-text-repr-fallback {display: none;}</style><div id=\"sk-container-id-2\" class=\"sk-top-container\"><div class=\"sk-text-repr-fallback\"><pre>GridSearchCV(cv=5, estimator=KNeighborsClassifier(),\n",
              "             param_grid={&#x27;n_neighbors&#x27;: [3, 5],\n",
              "                         &#x27;weights&#x27;: [&#x27;uniform&#x27;, &#x27;distance&#x27;]},\n",
              "             verbose=3)</pre><b>In a Jupyter environment, please rerun this cell to show the HTML representation or trust the notebook. <br />On GitHub, the HTML representation is unable to render, please try loading this page with nbviewer.org.</b></div><div class=\"sk-container\" hidden><div class=\"sk-item sk-dashed-wrapped\"><div class=\"sk-label-container\"><div class=\"sk-label sk-toggleable\"><input class=\"sk-toggleable__control sk-hidden--visually\" id=\"sk-estimator-id-4\" type=\"checkbox\" ><label for=\"sk-estimator-id-4\" class=\"sk-toggleable__label sk-toggleable__label-arrow\">GridSearchCV</label><div class=\"sk-toggleable__content\"><pre>GridSearchCV(cv=5, estimator=KNeighborsClassifier(),\n",
              "             param_grid={&#x27;n_neighbors&#x27;: [3, 5],\n",
              "                         &#x27;weights&#x27;: [&#x27;uniform&#x27;, &#x27;distance&#x27;]},\n",
              "             verbose=3)</pre></div></div></div><div class=\"sk-parallel\"><div class=\"sk-parallel-item\"><div class=\"sk-item\"><div class=\"sk-label-container\"><div class=\"sk-label sk-toggleable\"><input class=\"sk-toggleable__control sk-hidden--visually\" id=\"sk-estimator-id-5\" type=\"checkbox\" ><label for=\"sk-estimator-id-5\" class=\"sk-toggleable__label sk-toggleable__label-arrow\">estimator: KNeighborsClassifier</label><div class=\"sk-toggleable__content\"><pre>KNeighborsClassifier()</pre></div></div></div><div class=\"sk-serial\"><div class=\"sk-item\"><div class=\"sk-estimator sk-toggleable\"><input class=\"sk-toggleable__control sk-hidden--visually\" id=\"sk-estimator-id-6\" type=\"checkbox\" ><label for=\"sk-estimator-id-6\" class=\"sk-toggleable__label sk-toggleable__label-arrow\">KNeighborsClassifier</label><div class=\"sk-toggleable__content\"><pre>KNeighborsClassifier()</pre></div></div></div></div></div></div></div></div></div></div>"
            ]
          },
          "metadata": {},
          "execution_count": 22
        }
      ]
    },
    {
      "cell_type": "code",
      "source": [
        "# best hyperparameter\n",
        "\n",
        "grid_search.best_params_"
      ],
      "metadata": {
        "id": "J0NiljKhJJlj",
        "colab": {
          "base_uri": "https://localhost:8080/"
        },
        "outputId": "033e2b38-faec-4425-ad9f-d0ceae5a13ab"
      },
      "execution_count": 23,
      "outputs": [
        {
          "output_type": "execute_result",
          "data": {
            "text/plain": [
              "{'n_neighbors': 3, 'weights': 'distance'}"
            ]
          },
          "metadata": {},
          "execution_count": 23
        }
      ]
    },
    {
      "cell_type": "code",
      "source": [
        "## best score\n",
        "# default: 정확도\n",
        "\n",
        "grid_search.best_score_"
      ],
      "metadata": {
        "id": "DPLNro_xJTrx",
        "colab": {
          "base_uri": "https://localhost:8080/"
        },
        "outputId": "151bc8a6-3acf-4c72-884a-7ed2f3cb0a78"
      },
      "execution_count": 24,
      "outputs": [
        {
          "output_type": "execute_result",
          "data": {
            "text/plain": [
              "0.9711166666666665"
            ]
          },
          "metadata": {},
          "execution_count": 24
        }
      ]
    },
    {
      "cell_type": "code",
      "source": [
        "# model test\n",
        "\n",
        "from sklearn.metrics import accuracy_score\n",
        "\n",
        "y_pred = grid_search.predict(X_test) # 예측\n",
        "accuracy_score(y_test, y_pred) # 평가"
      ],
      "metadata": {
        "id": "CVY_c-DMJX70",
        "colab": {
          "base_uri": "https://localhost:8080/"
        },
        "outputId": "216b9fc3-8d7c-46f0-ad77-536b0bce1cfa"
      },
      "execution_count": 25,
      "outputs": [
        {
          "output_type": "execute_result",
          "data": {
            "text/plain": [
              "0.9717"
            ]
          },
          "metadata": {},
          "execution_count": 25
        }
      ]
    },
    {
      "cell_type": "markdown",
      "source": [
        "### **2. 다음 단계를 따라 인위적으로 훈련 세트를 늘리는 데이터 증식 또는 훈련 세트 확장 기법을 연습해봅시다.**\n",
        "___"
      ],
      "metadata": {
        "id": "-pDjW5XcHPOt"
      }
    },
    {
      "cell_type": "markdown",
      "source": [
        "#### **STEP 1. MNIST 이미지를 (왼, 오른, 위, 아래) 어느 방향으로든 한 픽셀 이동시킬 수 있는 함수를 만들어 보세요.**"
      ],
      "metadata": {
        "id": "_xhEB_KtH47q"
      }
    },
    {
      "cell_type": "code",
      "source": [
        "from scipy.ndimage.interpolation import shift # 이미지의 픽셀을 이동하기 위한 모듈"
      ],
      "metadata": {
        "colab": {
          "base_uri": "https://localhost:8080/"
        },
        "id": "kKWRfGj0IjPT",
        "outputId": "358ae302-fccf-4e45-f68c-b269b0b4bfb6"
      },
      "execution_count": 26,
      "outputs": [
        {
          "output_type": "stream",
          "name": "stderr",
          "text": [
            "<ipython-input-26-41f18ddc74a6>:1: DeprecationWarning: Please use `shift` from the `scipy.ndimage` namespace, the `scipy.ndimage.interpolation` namespace is deprecated.\n",
            "  from scipy.ndimage.interpolation import shift # 이미지의 픽셀을 이동하기 위한 모듈\n"
          ]
        }
      ]
    },
    {
      "cell_type": "code",
      "source": [
        "def img_shift(img, dir): # 이미지, 이동 방향\n",
        "  img = img.reshape((28, 28)) # 28 by 28 이미지로 resizing\n",
        "  if dir == 'left': # 왼쪽\n",
        "    img = shift(img, [0, -1], cval = 0)\n",
        "  elif dir == 'right': # 오른쪽\n",
        "    img = shift(img, [0, 1], cval = 0)\n",
        "  elif dir == 'up': # 오른쪽\n",
        "    img = shift(img, [-1, 0], cval = 0)\n",
        "  elif dir == 'down': # 오른쪽\n",
        "    img = shift(img, [1, 0], cval = 0)\n",
        "  else:\n",
        "    raise ValueError(\"잘못된 방향입니다. 'left', 'right', 'up', 'down' 중 하나를 선택하세요.\")\n",
        "\n",
        "  return img.reshape([-1]) # 1차원으로 다시 펼쳐서"
      ],
      "metadata": {
        "id": "DKw9INbrJgpv"
      },
      "execution_count": 27,
      "outputs": []
    },
    {
      "cell_type": "code",
      "source": [
        "## 아무 이미지로 테스트 해보기\n",
        "# 0번 이미지로 실험\n",
        "\n",
        "img = X_train[0]\n",
        "\n",
        "# 이미지 가공\n",
        "img_left = img_shift(img, 'left')\n",
        "img_right = img_shift(img, 'right')\n",
        "img_up = img_shift(img, 'up')\n",
        "img_down = img_shift(img, 'down')"
      ],
      "metadata": {
        "id": "B_GgIzdfJ4ZY"
      },
      "execution_count": 28,
      "outputs": []
    },
    {
      "cell_type": "code",
      "source": [
        "import matplotlib.pyplot as plt\n",
        "\n",
        "plt.figure(figsize = (15, 8))\n",
        "\n",
        "# 원본 이미지\n",
        "plt.subplot(231)\n",
        "plt.title(\"Original\", fontsize=14)\n",
        "plt.imshow(img.reshape(28,28), interpolation=\"nearest\", cmap=\"Greys\")\n",
        "\n",
        "# 왼쪽으로 이동한 이미지\n",
        "plt.subplot(232)\n",
        "plt.title(\"Shifted left\", fontsize=14)\n",
        "plt.imshow(img_left.reshape(28, 28), interpolation=\"nearest\", cmap=\"Greys\")\n",
        "\n",
        "# 오른쪽으로 이동한 이미지\n",
        "plt.subplot(233)\n",
        "plt.title(\"Shifted right\", fontsize=14)\n",
        "plt.imshow(img_right.reshape(28, 28), interpolation=\"nearest\", cmap=\"Greys\")\n",
        "\n",
        "# 위로 이동한 이미지\n",
        "plt.subplot(234)\n",
        "plt.title(\"Shifted up\", fontsize=14)\n",
        "plt.imshow(img_up.reshape(28, 28), interpolation=\"nearest\", cmap=\"Greys\")\n",
        "\n",
        "# 아래로 이동한 이미지\n",
        "plt.subplot(235)\n",
        "plt.title(\"Shifted down\", fontsize=14)\n",
        "plt.imshow(img_down.reshape(28, 28), interpolation=\"nearest\", cmap=\"Greys\")\n",
        "\n",
        "plt.show()"
      ],
      "metadata": {
        "colab": {
          "base_uri": "https://localhost:8080/",
          "height": 700
        },
        "id": "-ENXdW4kMDQD",
        "outputId": "0a1b13e2-452b-4760-a2ee-baf5aba21fa0"
      },
      "execution_count": 44,
      "outputs": [
        {
          "output_type": "display_data",
          "data": {
            "text/plain": [
              "<Figure size 1500x800 with 5 Axes>"
            ],
            "image/png": "[encoded data removed]"
          },
          "metadata": {}
        }
      ]
    },
    {
      "cell_type": "markdown",
      "source": [
        "####  **STEP 2. 앞에서 만든 함수를 이용하여, 훈련 세트에 있는 각 이미지에 대해 네 개의 이동된 복사본(방향마다 한 개씩)을 만들어 훈련 세트에 추가하세요**"
      ],
      "metadata": {
        "id": "AHgSqi-zIBCd"
      }
    },
    {
      "cell_type": "code",
      "source": [
        "X_train_augmented = [image for image in X_train]\n",
        "y_train_augmented = [label for label in y_train]\n",
        "\n",
        "for dir in ['left', 'right', 'up', 'down']:\n",
        "  for image, label in zip(X_train, y_train):\n",
        "    X_train_augmented.append(img_shift(img, dir))\n",
        "    y_train_augmented.append(label)"
      ],
      "metadata": {
        "id": "SsBT_d0MIH-V"
      },
      "execution_count": 31,
      "outputs": []
    },
    {
      "cell_type": "code",
      "source": [
        "import numpy as np\n",
        "\n",
        "X_train_augmented = np.array(X_train_augmented)\n",
        "y_train_augmented = np.array(y_train_augmented)"
      ],
      "metadata": {
        "id": "tS1empJzKCOG"
      },
      "execution_count": 35,
      "outputs": []
    },
    {
      "cell_type": "markdown",
      "source": [
        "####  **STEP 3. 위에서 확장한 데이터셋을 이용하여, 1번 문제에서 찾은 최적 모델을 훈련시키고, 테스트 세트에서 정확도를 측정해보세요**"
      ],
      "metadata": {
        "id": "zWozt0n2IJZL"
      }
    },
    {
      "cell_type": "code",
      "source": [
        "knn_best = KNeighborsClassifier(**grid_search.best_params_) # 딕셔너리 내 최적 파라미터만 가져오기"
      ],
      "metadata": {
        "id": "Yo4H-hTRIW7-"
      },
      "execution_count": 39,
      "outputs": []
    },
    {
      "cell_type": "code",
      "source": [
        "knn_best.fit(X_train_augmented, y_train_augmented) # 학습"
      ],
      "metadata": {
        "id": "fVdwwmSYKDmF",
        "colab": {
          "base_uri": "https://localhost:8080/",
          "height": 74
        },
        "outputId": "9d162689-bf7b-43d7-aa0e-5d992939e93f"
      },
      "execution_count": 40,
      "outputs": [
        {
          "output_type": "execute_result",
          "data": {
            "text/plain": [
              "KNeighborsClassifier(n_neighbors=3, weights='distance')"
            ],
            "text/html": [
              "<style>#sk-container-id-3 {color: black;background-color: white;}#sk-container-id-3 pre{padding: 0;}#sk-container-id-3 div.sk-toggleable {background-color: white;}#sk-container-id-3 label.sk-toggleable__label {cursor: pointer;display: block;width: 100%;margin-bottom: 0;padding: 0.3em;box-sizing: border-box;text-align: center;}#sk-container-id-3 label.sk-toggleable__label-arrow:before {content: \"▸\";float: left;margin-right: 0.25em;color: #696969;}#sk-container-id-3 label.sk-toggleable__label-arrow:hover:before {color: black;}#sk-container-id-3 div.sk-estimator:hover label.sk-toggleable__label-arrow:before {color: black;}#sk-container-id-3 div.sk-toggleable__content {max-height: 0;max-width: 0;overflow: hidden;text-align: left;background-color: #f0f8ff;}#sk-container-id-3 div.sk-toggleable__content pre {margin: 0.2em;color: black;border-radius: 0.25em;background-color: #f0f8ff;}#sk-container-id-3 input.sk-toggleable__control:checked~div.sk-toggleable__content {max-height: 200px;max-width: 100%;overflow: auto;}#sk-container-id-3 input.sk-toggleable__control:checked~label.sk-toggleable__label-arrow:before {content: \"▾\";}#sk-container-id-3 div.sk-estimator input.sk-toggleable__control:checked~label.sk-toggleable__label {background-color: #d4ebff;}#sk-container-id-3 div.sk-label input.sk-toggleable__control:checked~label.sk-toggleable__label {background-color: #d4ebff;}#sk-container-id-3 input.sk-hidden--visually {border: 0;clip: rect(1px 1px 1px 1px);clip: rect(1px, 1px, 1px, 1px);height: 1px;margin: -1px;overflow: hidden;padding: 0;position: absolute;width: 1px;}#sk-container-id-3 div.sk-estimator {font-family: monospace;background-color: #f0f8ff;border: 1px dotted black;border-radius: 0.25em;box-sizing: border-box;margin-bottom: 0.5em;}#sk-container-id-3 div.sk-estimator:hover {background-color: #d4ebff;}#sk-container-id-3 div.sk-parallel-item::after {content: \"\";width: 100%;border-bottom: 1px solid gray;flex-grow: 1;}#sk-container-id-3 div.sk-label:hover label.sk-toggleable__label {background-color: #d4ebff;}#sk-container-id-3 div.sk-serial::before {content: \"\";position: absolute;border-left: 1px solid gray;box-sizing: border-box;top: 0;bottom: 0;left: 50%;z-index: 0;}#sk-container-id-3 div.sk-serial {display: flex;flex-direction: column;align-items: center;background-color: white;padding-right: 0.2em;padding-left: 0.2em;position: relative;}#sk-container-id-3 div.sk-item {position: relative;z-index: 1;}#sk-container-id-3 div.sk-parallel {display: flex;align-items: stretch;justify-content: center;background-color: white;position: relative;}#sk-container-id-3 div.sk-item::before, #sk-container-id-3 div.sk-parallel-item::before {content: \"\";position: absolute;border-left: 1px solid gray;box-sizing: border-box;top: 0;bottom: 0;left: 50%;z-index: -1;}#sk-container-id-3 div.sk-parallel-item {display: flex;flex-direction: column;z-index: 1;position: relative;background-color: white;}#sk-container-id-3 div.sk-parallel-item:first-child::after {align-self: flex-end;width: 50%;}#sk-container-id-3 div.sk-parallel-item:last-child::after {align-self: flex-start;width: 50%;}#sk-container-id-3 div.sk-parallel-item:only-child::after {width: 0;}#sk-container-id-3 div.sk-dashed-wrapped {border: 1px dashed gray;margin: 0 0.4em 0.5em 0.4em;box-sizing: border-box;padding-bottom: 0.4em;background-color: white;}#sk-container-id-3 div.sk-label label {font-family: monospace;font-weight: bold;display: inline-block;line-height: 1.2em;}#sk-container-id-3 div.sk-label-container {text-align: center;}#sk-container-id-3 div.sk-container {/* jupyter's `normalize.less` sets `[hidden] { display: none; }` but bootstrap.min.css set `[hidden] { display: none !important; }` so we also need the `!important` here to be able to override the default hidden behavior on the sphinx rendered scikit-learn.org. See: https://github.com/scikit-learn/scikit-learn/issues/21755 */display: inline-block !important;position: relative;}#sk-container-id-3 div.sk-text-repr-fallback {display: none;}</style><div id=\"sk-container-id-3\" class=\"sk-top-container\"><div class=\"sk-text-repr-fallback\"><pre>KNeighborsClassifier(n_neighbors=3, weights=&#x27;distance&#x27;)</pre><b>In a Jupyter environment, please rerun this cell to show the HTML representation or trust the notebook. <br />On GitHub, the HTML representation is unable to render, please try loading this page with nbviewer.org.</b></div><div class=\"sk-container\" hidden><div class=\"sk-item\"><div class=\"sk-estimator sk-toggleable\"><input class=\"sk-toggleable__control sk-hidden--visually\" id=\"sk-estimator-id-7\" type=\"checkbox\" checked><label for=\"sk-estimator-id-7\" class=\"sk-toggleable__label sk-toggleable__label-arrow\">KNeighborsClassifier</label><div class=\"sk-toggleable__content\"><pre>KNeighborsClassifier(n_neighbors=3, weights=&#x27;distance&#x27;)</pre></div></div></div></div></div>"
            ]
          },
          "metadata": {},
          "execution_count": 40
        }
      ]
    },
    {
      "cell_type": "code",
      "source": [
        "y_pred = knn_best.predict(X_test) # 예측\n",
        "accuracy_score(y_test, y_pred) # 평가"
      ],
      "metadata": {
        "id": "ijlm1VbOKFSN",
        "colab": {
          "base_uri": "https://localhost:8080/"
        },
        "outputId": "d847af48-0402-4cac-e09e-ac78304e3fbf"
      },
      "execution_count": 41,
      "outputs": [
        {
          "output_type": "execute_result",
          "data": {
            "text/plain": [
              "0.9717"
            ]
          },
          "metadata": {},
          "execution_count": 41
        }
      ]
    },
    {
      "cell_type": "markdown",
      "source": [
        "- 성능 차이는 그닥...^^"
      ],
      "metadata": {
        "id": "t5LScvwtQT6x"
      }
    }
  ]
}